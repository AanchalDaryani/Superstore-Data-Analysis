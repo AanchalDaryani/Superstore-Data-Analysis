{
 "cells": [
  {
   "cell_type": "markdown",
   "id": "f8b0fc89",
   "metadata": {},
   "source": [
    "# Analysing the SuperStore Data by Using SQL and Python"
   ]
  },
  {
   "cell_type": "markdown",
   "id": "661c5410",
   "metadata": {},
   "source": [
    "### Abstract:\n",
    "**Data analysis on the Super Store Data by using Pandas and SQL. This Data Analysis is focused upon Sales and Profits in different Regions and Categories. Analysis of Data is shown in graphs with help of Seaborn an matplotlib visualization Libraries.**"
   ]
  },
  {
   "cell_type": "markdown",
   "id": "21ebc423",
   "metadata": {},
   "source": [
    "### Describing the Data\n",
    "**There are 7 tables in the database sales**\n",
    "1. **Sales** : Sales shows Profit, Quantity,Discount and Sales. It also has Product ID and Order ID\n",
    "2. **Customers** : Customers involves Customer name, Segment,Customer ID\n",
    "3. **Regions** : Regions comprises Customer ID, Order ID, Country, City, State, Postal Code, Region\n",
    "4. **Order Details** : Order Details shows Order ID, Order Date, Ship Date, Ship Mode\n",
    "5. **Products** : Products includes Product ID, Category, Sub-Category, Product Name\n",
    "6. **People** : People has 2 columns Person(Managers) and Region\n",
    "7. **Returns** : Returns shows Returned and Order ID"
   ]
  },
  {
   "cell_type": "markdown",
   "id": "b350da1a",
   "metadata": {},
   "source": [
    "### Importing Important Libraries"
   ]
  },
  {
   "cell_type": "code",
   "execution_count": 2,
   "id": "115b5ff6",
   "metadata": {},
   "outputs": [],
   "source": [
    "import pandas as pd\n",
    "import numpy as np\n",
    "import seaborn as sns\n",
    "import matplotlib.pyplot as plt"
   ]
  },
  {
   "cell_type": "code",
   "execution_count": 3,
   "id": "72d7914a",
   "metadata": {},
   "outputs": [],
   "source": [
    "import warnings \n",
    "warnings.filterwarnings(\"ignore\")"
   ]
  },
  {
   "cell_type": "markdown",
   "id": "41c74da2",
   "metadata": {},
   "source": [
    "### Making Connection Between SQL and Python"
   ]
  },
  {
   "cell_type": "code",
   "execution_count": 4,
   "id": "7272154d",
   "metadata": {},
   "outputs": [
    {
     "name": "stdout",
     "output_type": "stream",
     "text": [
      "<mysql.connector.connection_cext.CMySQLConnection object at 0x0000020A3202CA10>\n",
      "('bank',)\n",
      "('classicmodels',)\n",
      "('datasets',)\n",
      "('imarticus',)\n",
      "('information_schema',)\n",
      "('mydatabase',)\n",
      "('mysql',)\n",
      "('performance_schema',)\n",
      "('pga27',)\n",
      "('practice',)\n",
      "('sakila',)\n",
      "('sales',)\n",
      "('sample',)\n",
      "('sys',)\n",
      "('world',)\n"
     ]
    }
   ],
   "source": [
    "import mysql.connector\n",
    "mydb = mysql.connector.connect(\n",
    "  host=\"127.0.0.1\",\n",
    "  user=\"root\",\n",
    "  password=\"1505\"\n",
    ")\n",
    "\n",
    "print(mydb)\n",
    "\n",
    "mycursor = mydb.cursor()\n",
    "\n",
    "#mycursor.execute(\"CREATE DATABASE mydatabase\")\n",
    "mycursor = mydb.cursor()\n",
    "\n",
    "mycursor.execute(\"SHOW DATABASES\")\n",
    "\n",
    "for x in mycursor:\n",
    "    print(x)"
   ]
  },
  {
   "cell_type": "markdown",
   "id": "50ae1ee7",
   "metadata": {},
   "source": [
    "### Selection Of Database"
   ]
  },
  {
   "cell_type": "code",
   "execution_count": 5,
   "id": "0b745db5",
   "metadata": {},
   "outputs": [],
   "source": [
    "mydb = mysql.connector.connect(\n",
    "  host=\"127.0.0.1\",\n",
    "  user=\"root\",\n",
    "  password=\"1505\",\n",
    "  database=\"sales\"\n",
    ")"
   ]
  },
  {
   "cell_type": "code",
   "execution_count": 6,
   "id": "7b502b3a",
   "metadata": {},
   "outputs": [],
   "source": [
    "mycursor = mydb.cursor()\n",
    "mycursor.execute(\"USE sales\")"
   ]
  },
  {
   "cell_type": "markdown",
   "id": "625932d9",
   "metadata": {},
   "source": [
    "### Creating DataFrames from SQL Tables."
   ]
  },
  {
   "cell_type": "code",
   "execution_count": 7,
   "id": "b14b72f8",
   "metadata": {},
   "outputs": [
    {
     "data": {
      "text/html": [
       "<div>\n",
       "<style scoped>\n",
       "    .dataframe tbody tr th:only-of-type {\n",
       "        vertical-align: middle;\n",
       "    }\n",
       "\n",
       "    .dataframe tbody tr th {\n",
       "        vertical-align: top;\n",
       "    }\n",
       "\n",
       "    .dataframe thead th {\n",
       "        text-align: right;\n",
       "    }\n",
       "</style>\n",
       "<table border=\"1\" class=\"dataframe\">\n",
       "  <thead>\n",
       "    <tr style=\"text-align: right;\">\n",
       "      <th></th>\n",
       "      <th>Order ID</th>\n",
       "      <th>Order Date</th>\n",
       "      <th>Ship Date</th>\n",
       "      <th>Ship Mode</th>\n",
       "      <th>Customer ID</th>\n",
       "      <th>Customer Name</th>\n",
       "      <th>Segment</th>\n",
       "      <th>Country</th>\n",
       "      <th>City</th>\n",
       "      <th>State</th>\n",
       "      <th>Postal Code</th>\n",
       "      <th>Region</th>\n",
       "      <th>Product ID</th>\n",
       "      <th>Category</th>\n",
       "      <th>Sub-Category</th>\n",
       "      <th>Product Name</th>\n",
       "      <th>Sales</th>\n",
       "      <th>Quantity</th>\n",
       "      <th>Discount</th>\n",
       "      <th>Profit</th>\n",
       "    </tr>\n",
       "  </thead>\n",
       "  <tbody>\n",
       "    <tr>\n",
       "      <th>0</th>\n",
       "      <td>CA-2016-152156</td>\n",
       "      <td>2016-11-08</td>\n",
       "      <td>2016-11-11</td>\n",
       "      <td>Second Class</td>\n",
       "      <td>CG-12520</td>\n",
       "      <td>Claire Gute</td>\n",
       "      <td>Consumer</td>\n",
       "      <td>United States</td>\n",
       "      <td>Henderson</td>\n",
       "      <td>Kentucky</td>\n",
       "      <td>42420</td>\n",
       "      <td>South</td>\n",
       "      <td>FUR-BO-10001798</td>\n",
       "      <td>Furniture</td>\n",
       "      <td>Bookcases</td>\n",
       "      <td>Bush Somerset Collection Bookcase</td>\n",
       "      <td>261.9600</td>\n",
       "      <td>2</td>\n",
       "      <td>0.00</td>\n",
       "      <td>41.9136</td>\n",
       "    </tr>\n",
       "    <tr>\n",
       "      <th>1</th>\n",
       "      <td>CA-2016-152156</td>\n",
       "      <td>2016-11-08</td>\n",
       "      <td>2016-11-11</td>\n",
       "      <td>Second Class</td>\n",
       "      <td>CG-12520</td>\n",
       "      <td>Claire Gute</td>\n",
       "      <td>Consumer</td>\n",
       "      <td>United States</td>\n",
       "      <td>Henderson</td>\n",
       "      <td>Kentucky</td>\n",
       "      <td>42420</td>\n",
       "      <td>South</td>\n",
       "      <td>FUR-CH-10000454</td>\n",
       "      <td>Furniture</td>\n",
       "      <td>Chairs</td>\n",
       "      <td>Hon Deluxe Fabric Upholstered Stacking Chairs,...</td>\n",
       "      <td>731.9400</td>\n",
       "      <td>3</td>\n",
       "      <td>0.00</td>\n",
       "      <td>219.5820</td>\n",
       "    </tr>\n",
       "    <tr>\n",
       "      <th>2</th>\n",
       "      <td>CA-2016-138688</td>\n",
       "      <td>2016-06-12</td>\n",
       "      <td>2016-06-16</td>\n",
       "      <td>Second Class</td>\n",
       "      <td>DV-13045</td>\n",
       "      <td>Darrin Van Huff</td>\n",
       "      <td>Corporate</td>\n",
       "      <td>United States</td>\n",
       "      <td>Los Angeles</td>\n",
       "      <td>California</td>\n",
       "      <td>90036</td>\n",
       "      <td>West</td>\n",
       "      <td>OFF-LA-10000240</td>\n",
       "      <td>Office Supplies</td>\n",
       "      <td>Labels</td>\n",
       "      <td>Self-Adhesive Address Labels for Typewriters b...</td>\n",
       "      <td>14.6200</td>\n",
       "      <td>2</td>\n",
       "      <td>0.00</td>\n",
       "      <td>6.8714</td>\n",
       "    </tr>\n",
       "    <tr>\n",
       "      <th>3</th>\n",
       "      <td>US-2015-108966</td>\n",
       "      <td>2015-10-11</td>\n",
       "      <td>2015-10-18</td>\n",
       "      <td>Standard Class</td>\n",
       "      <td>SO-20335</td>\n",
       "      <td>Sean O'Donnell</td>\n",
       "      <td>Consumer</td>\n",
       "      <td>United States</td>\n",
       "      <td>Fort Lauderdale</td>\n",
       "      <td>Florida</td>\n",
       "      <td>33311</td>\n",
       "      <td>South</td>\n",
       "      <td>FUR-TA-10000577</td>\n",
       "      <td>Furniture</td>\n",
       "      <td>Tables</td>\n",
       "      <td>Bretford CR4500 Series Slim Rectangular Table</td>\n",
       "      <td>957.5775</td>\n",
       "      <td>5</td>\n",
       "      <td>0.45</td>\n",
       "      <td>-383.0310</td>\n",
       "    </tr>\n",
       "    <tr>\n",
       "      <th>4</th>\n",
       "      <td>US-2015-108966</td>\n",
       "      <td>2015-10-11</td>\n",
       "      <td>2015-10-18</td>\n",
       "      <td>Standard Class</td>\n",
       "      <td>SO-20335</td>\n",
       "      <td>Sean O'Donnell</td>\n",
       "      <td>Consumer</td>\n",
       "      <td>United States</td>\n",
       "      <td>Fort Lauderdale</td>\n",
       "      <td>Florida</td>\n",
       "      <td>33311</td>\n",
       "      <td>South</td>\n",
       "      <td>OFF-ST-10000760</td>\n",
       "      <td>Office Supplies</td>\n",
       "      <td>Storage</td>\n",
       "      <td>Eldon Fold 'N Roll Cart System</td>\n",
       "      <td>22.3680</td>\n",
       "      <td>2</td>\n",
       "      <td>0.20</td>\n",
       "      <td>2.5164</td>\n",
       "    </tr>\n",
       "    <tr>\n",
       "      <th>...</th>\n",
       "      <td>...</td>\n",
       "      <td>...</td>\n",
       "      <td>...</td>\n",
       "      <td>...</td>\n",
       "      <td>...</td>\n",
       "      <td>...</td>\n",
       "      <td>...</td>\n",
       "      <td>...</td>\n",
       "      <td>...</td>\n",
       "      <td>...</td>\n",
       "      <td>...</td>\n",
       "      <td>...</td>\n",
       "      <td>...</td>\n",
       "      <td>...</td>\n",
       "      <td>...</td>\n",
       "      <td>...</td>\n",
       "      <td>...</td>\n",
       "      <td>...</td>\n",
       "      <td>...</td>\n",
       "      <td>...</td>\n",
       "    </tr>\n",
       "    <tr>\n",
       "      <th>9989</th>\n",
       "      <td>CA-2014-110422</td>\n",
       "      <td>2014-01-21</td>\n",
       "      <td>2014-01-23</td>\n",
       "      <td>Second Class</td>\n",
       "      <td>TB-21400</td>\n",
       "      <td>Tom Boeckenhauer</td>\n",
       "      <td>Consumer</td>\n",
       "      <td>United States</td>\n",
       "      <td>Miami</td>\n",
       "      <td>Florida</td>\n",
       "      <td>33180</td>\n",
       "      <td>South</td>\n",
       "      <td>FUR-FU-10001889</td>\n",
       "      <td>Furniture</td>\n",
       "      <td>Furnishings</td>\n",
       "      <td>Ultra Door Pull Handle</td>\n",
       "      <td>25.2480</td>\n",
       "      <td>3</td>\n",
       "      <td>0.20</td>\n",
       "      <td>4.1028</td>\n",
       "    </tr>\n",
       "    <tr>\n",
       "      <th>9990</th>\n",
       "      <td>CA-2017-121258</td>\n",
       "      <td>2017-02-26</td>\n",
       "      <td>2017-03-03</td>\n",
       "      <td>Standard Class</td>\n",
       "      <td>DB-13060</td>\n",
       "      <td>Dave Brooks</td>\n",
       "      <td>Consumer</td>\n",
       "      <td>United States</td>\n",
       "      <td>Costa Mesa</td>\n",
       "      <td>California</td>\n",
       "      <td>92627</td>\n",
       "      <td>West</td>\n",
       "      <td>FUR-FU-10000747</td>\n",
       "      <td>Furniture</td>\n",
       "      <td>Furnishings</td>\n",
       "      <td>Tenex B1-RE Series Chair Mats for Low Pile Car...</td>\n",
       "      <td>91.9600</td>\n",
       "      <td>2</td>\n",
       "      <td>0.00</td>\n",
       "      <td>15.6332</td>\n",
       "    </tr>\n",
       "    <tr>\n",
       "      <th>9991</th>\n",
       "      <td>CA-2017-121258</td>\n",
       "      <td>2017-02-26</td>\n",
       "      <td>2017-03-03</td>\n",
       "      <td>Standard Class</td>\n",
       "      <td>DB-13060</td>\n",
       "      <td>Dave Brooks</td>\n",
       "      <td>Consumer</td>\n",
       "      <td>United States</td>\n",
       "      <td>Costa Mesa</td>\n",
       "      <td>California</td>\n",
       "      <td>92627</td>\n",
       "      <td>West</td>\n",
       "      <td>TEC-PH-10003645</td>\n",
       "      <td>Technology</td>\n",
       "      <td>Phones</td>\n",
       "      <td>Aastra 57i VoIP phone</td>\n",
       "      <td>258.5760</td>\n",
       "      <td>2</td>\n",
       "      <td>0.20</td>\n",
       "      <td>19.3932</td>\n",
       "    </tr>\n",
       "    <tr>\n",
       "      <th>9992</th>\n",
       "      <td>CA-2017-121258</td>\n",
       "      <td>2017-02-26</td>\n",
       "      <td>2017-03-03</td>\n",
       "      <td>Standard Class</td>\n",
       "      <td>DB-13060</td>\n",
       "      <td>Dave Brooks</td>\n",
       "      <td>Consumer</td>\n",
       "      <td>United States</td>\n",
       "      <td>Costa Mesa</td>\n",
       "      <td>California</td>\n",
       "      <td>92627</td>\n",
       "      <td>West</td>\n",
       "      <td>OFF-PA-10004041</td>\n",
       "      <td>Office Supplies</td>\n",
       "      <td>Paper</td>\n",
       "      <td>It's Hot Message Books with Stickers, 2 3/4\" x...</td>\n",
       "      <td>29.6000</td>\n",
       "      <td>4</td>\n",
       "      <td>0.00</td>\n",
       "      <td>13.3200</td>\n",
       "    </tr>\n",
       "    <tr>\n",
       "      <th>9993</th>\n",
       "      <td>CA-2017-119914</td>\n",
       "      <td>2017-05-04</td>\n",
       "      <td>2017-05-09</td>\n",
       "      <td>Second Class</td>\n",
       "      <td>CC-12220</td>\n",
       "      <td>Chris Cortes</td>\n",
       "      <td>Consumer</td>\n",
       "      <td>United States</td>\n",
       "      <td>Westminster</td>\n",
       "      <td>California</td>\n",
       "      <td>92683</td>\n",
       "      <td>West</td>\n",
       "      <td>OFF-AP-10002684</td>\n",
       "      <td>Office Supplies</td>\n",
       "      <td>Appliances</td>\n",
       "      <td>Acco 7-Outlet Masterpiece Power Center, Wihtou...</td>\n",
       "      <td>243.1600</td>\n",
       "      <td>2</td>\n",
       "      <td>0.00</td>\n",
       "      <td>72.9480</td>\n",
       "    </tr>\n",
       "  </tbody>\n",
       "</table>\n",
       "<p>9994 rows × 20 columns</p>\n",
       "</div>"
      ],
      "text/plain": [
       "            Order ID Order Date  Ship Date       Ship Mode Customer ID  \\\n",
       "0     CA-2016-152156 2016-11-08 2016-11-11    Second Class    CG-12520   \n",
       "1     CA-2016-152156 2016-11-08 2016-11-11    Second Class    CG-12520   \n",
       "2     CA-2016-138688 2016-06-12 2016-06-16    Second Class    DV-13045   \n",
       "3     US-2015-108966 2015-10-11 2015-10-18  Standard Class    SO-20335   \n",
       "4     US-2015-108966 2015-10-11 2015-10-18  Standard Class    SO-20335   \n",
       "...              ...        ...        ...             ...         ...   \n",
       "9989  CA-2014-110422 2014-01-21 2014-01-23    Second Class    TB-21400   \n",
       "9990  CA-2017-121258 2017-02-26 2017-03-03  Standard Class    DB-13060   \n",
       "9991  CA-2017-121258 2017-02-26 2017-03-03  Standard Class    DB-13060   \n",
       "9992  CA-2017-121258 2017-02-26 2017-03-03  Standard Class    DB-13060   \n",
       "9993  CA-2017-119914 2017-05-04 2017-05-09    Second Class    CC-12220   \n",
       "\n",
       "         Customer Name    Segment        Country             City       State  \\\n",
       "0          Claire Gute   Consumer  United States        Henderson    Kentucky   \n",
       "1          Claire Gute   Consumer  United States        Henderson    Kentucky   \n",
       "2      Darrin Van Huff  Corporate  United States      Los Angeles  California   \n",
       "3       Sean O'Donnell   Consumer  United States  Fort Lauderdale     Florida   \n",
       "4       Sean O'Donnell   Consumer  United States  Fort Lauderdale     Florida   \n",
       "...                ...        ...            ...              ...         ...   \n",
       "9989  Tom Boeckenhauer   Consumer  United States            Miami     Florida   \n",
       "9990       Dave Brooks   Consumer  United States       Costa Mesa  California   \n",
       "9991       Dave Brooks   Consumer  United States       Costa Mesa  California   \n",
       "9992       Dave Brooks   Consumer  United States       Costa Mesa  California   \n",
       "9993      Chris Cortes   Consumer  United States      Westminster  California   \n",
       "\n",
       "      Postal Code Region       Product ID         Category Sub-Category  \\\n",
       "0           42420  South  FUR-BO-10001798        Furniture    Bookcases   \n",
       "1           42420  South  FUR-CH-10000454        Furniture       Chairs   \n",
       "2           90036   West  OFF-LA-10000240  Office Supplies       Labels   \n",
       "3           33311  South  FUR-TA-10000577        Furniture       Tables   \n",
       "4           33311  South  OFF-ST-10000760  Office Supplies      Storage   \n",
       "...           ...    ...              ...              ...          ...   \n",
       "9989        33180  South  FUR-FU-10001889        Furniture  Furnishings   \n",
       "9990        92627   West  FUR-FU-10000747        Furniture  Furnishings   \n",
       "9991        92627   West  TEC-PH-10003645       Technology       Phones   \n",
       "9992        92627   West  OFF-PA-10004041  Office Supplies        Paper   \n",
       "9993        92683   West  OFF-AP-10002684  Office Supplies   Appliances   \n",
       "\n",
       "                                           Product Name     Sales  Quantity  \\\n",
       "0                     Bush Somerset Collection Bookcase  261.9600         2   \n",
       "1     Hon Deluxe Fabric Upholstered Stacking Chairs,...  731.9400         3   \n",
       "2     Self-Adhesive Address Labels for Typewriters b...   14.6200         2   \n",
       "3         Bretford CR4500 Series Slim Rectangular Table  957.5775         5   \n",
       "4                        Eldon Fold 'N Roll Cart System   22.3680         2   \n",
       "...                                                 ...       ...       ...   \n",
       "9989                             Ultra Door Pull Handle   25.2480         3   \n",
       "9990  Tenex B1-RE Series Chair Mats for Low Pile Car...   91.9600         2   \n",
       "9991                              Aastra 57i VoIP phone  258.5760         2   \n",
       "9992  It's Hot Message Books with Stickers, 2 3/4\" x...   29.6000         4   \n",
       "9993  Acco 7-Outlet Masterpiece Power Center, Wihtou...  243.1600         2   \n",
       "\n",
       "      Discount    Profit  \n",
       "0         0.00   41.9136  \n",
       "1         0.00  219.5820  \n",
       "2         0.00    6.8714  \n",
       "3         0.45 -383.0310  \n",
       "4         0.20    2.5164  \n",
       "...        ...       ...  \n",
       "9989      0.20    4.1028  \n",
       "9990      0.00   15.6332  \n",
       "9991      0.20   19.3932  \n",
       "9992      0.00   13.3200  \n",
       "9993      0.00   72.9480  \n",
       "\n",
       "[9994 rows x 20 columns]"
      ]
     },
     "execution_count": 7,
     "metadata": {},
     "output_type": "execute_result"
    }
   ],
   "source": [
    "sql_query1=pd.read_sql_query('select * from orders', mydb )\n",
    "\n",
    "Orders = pd.DataFrame(sql_query1, columns= ['Order ID', 'Order Date', 'Ship Date', 'Ship Mode', 'Customer ID', 'Customer Name', 'Segment', 'Country', 'City', 'State', 'Postal Code', 'Region', 'Product ID', 'Category', 'Sub-Category', 'Product Name', 'Sales', 'Quantity', 'Discount', 'Profit'])\n",
    "Orders"
   ]
  },
  {
   "cell_type": "code",
   "execution_count": 8,
   "id": "acd458aa",
   "metadata": {},
   "outputs": [
    {
     "data": {
      "text/html": [
       "<div>\n",
       "<style scoped>\n",
       "    .dataframe tbody tr th:only-of-type {\n",
       "        vertical-align: middle;\n",
       "    }\n",
       "\n",
       "    .dataframe tbody tr th {\n",
       "        vertical-align: top;\n",
       "    }\n",
       "\n",
       "    .dataframe thead th {\n",
       "        text-align: right;\n",
       "    }\n",
       "</style>\n",
       "<table border=\"1\" class=\"dataframe\">\n",
       "  <thead>\n",
       "    <tr style=\"text-align: right;\">\n",
       "      <th></th>\n",
       "      <th>Returned</th>\n",
       "      <th>Order ID</th>\n",
       "    </tr>\n",
       "  </thead>\n",
       "  <tbody>\n",
       "    <tr>\n",
       "      <th>0</th>\n",
       "      <td>Yes</td>\n",
       "      <td>CA-2017-153822</td>\n",
       "    </tr>\n",
       "    <tr>\n",
       "      <th>1</th>\n",
       "      <td>Yes</td>\n",
       "      <td>CA-2017-129707</td>\n",
       "    </tr>\n",
       "    <tr>\n",
       "      <th>2</th>\n",
       "      <td>Yes</td>\n",
       "      <td>CA-2014-152345</td>\n",
       "    </tr>\n",
       "    <tr>\n",
       "      <th>3</th>\n",
       "      <td>Yes</td>\n",
       "      <td>CA-2015-156440</td>\n",
       "    </tr>\n",
       "    <tr>\n",
       "      <th>4</th>\n",
       "      <td>Yes</td>\n",
       "      <td>US-2017-155999</td>\n",
       "    </tr>\n",
       "    <tr>\n",
       "      <th>...</th>\n",
       "      <td>...</td>\n",
       "      <td>...</td>\n",
       "    </tr>\n",
       "    <tr>\n",
       "      <th>291</th>\n",
       "      <td>Yes</td>\n",
       "      <td>CA-2015-101910</td>\n",
       "    </tr>\n",
       "    <tr>\n",
       "      <th>292</th>\n",
       "      <td>Yes</td>\n",
       "      <td>CA-2017-156958</td>\n",
       "    </tr>\n",
       "    <tr>\n",
       "      <th>293</th>\n",
       "      <td>Yes</td>\n",
       "      <td>CA-2016-105585</td>\n",
       "    </tr>\n",
       "    <tr>\n",
       "      <th>294</th>\n",
       "      <td>Yes</td>\n",
       "      <td>CA-2016-148796</td>\n",
       "    </tr>\n",
       "    <tr>\n",
       "      <th>295</th>\n",
       "      <td>Yes</td>\n",
       "      <td>CA-2015-149636</td>\n",
       "    </tr>\n",
       "  </tbody>\n",
       "</table>\n",
       "<p>296 rows × 2 columns</p>\n",
       "</div>"
      ],
      "text/plain": [
       "    Returned        Order ID\n",
       "0        Yes  CA-2017-153822\n",
       "1        Yes  CA-2017-129707\n",
       "2        Yes  CA-2014-152345\n",
       "3        Yes  CA-2015-156440\n",
       "4        Yes  US-2017-155999\n",
       "..       ...             ...\n",
       "291      Yes  CA-2015-101910\n",
       "292      Yes  CA-2017-156958\n",
       "293      Yes  CA-2016-105585\n",
       "294      Yes  CA-2016-148796\n",
       "295      Yes  CA-2015-149636\n",
       "\n",
       "[296 rows x 2 columns]"
      ]
     },
     "execution_count": 8,
     "metadata": {},
     "output_type": "execute_result"
    }
   ],
   "source": [
    "sql_query2 = pd.read_sql_query('SELECT * FROM returns', mydb)\n",
    "                            \n",
    "returns = pd.DataFrame(sql_query2, columns = ['Returned', 'Order ID'])\n",
    "returns"
   ]
  },
  {
   "cell_type": "code",
   "execution_count": 9,
   "id": "66a1fdee",
   "metadata": {},
   "outputs": [
    {
     "data": {
      "text/html": [
       "<div>\n",
       "<style scoped>\n",
       "    .dataframe tbody tr th:only-of-type {\n",
       "        vertical-align: middle;\n",
       "    }\n",
       "\n",
       "    .dataframe tbody tr th {\n",
       "        vertical-align: top;\n",
       "    }\n",
       "\n",
       "    .dataframe thead th {\n",
       "        text-align: right;\n",
       "    }\n",
       "</style>\n",
       "<table border=\"1\" class=\"dataframe\">\n",
       "  <thead>\n",
       "    <tr style=\"text-align: right;\">\n",
       "      <th></th>\n",
       "      <th>Person</th>\n",
       "      <th>Region</th>\n",
       "    </tr>\n",
       "  </thead>\n",
       "  <tbody>\n",
       "    <tr>\n",
       "      <th>0</th>\n",
       "      <td>Anna Andreadi</td>\n",
       "      <td>West</td>\n",
       "    </tr>\n",
       "    <tr>\n",
       "      <th>1</th>\n",
       "      <td>Chuck Magee</td>\n",
       "      <td>East</td>\n",
       "    </tr>\n",
       "    <tr>\n",
       "      <th>2</th>\n",
       "      <td>Kelly Williams</td>\n",
       "      <td>Central</td>\n",
       "    </tr>\n",
       "    <tr>\n",
       "      <th>3</th>\n",
       "      <td>Cassandra Brandow</td>\n",
       "      <td>South</td>\n",
       "    </tr>\n",
       "  </tbody>\n",
       "</table>\n",
       "</div>"
      ],
      "text/plain": [
       "              Person   Region\n",
       "0      Anna Andreadi     West\n",
       "1        Chuck Magee     East\n",
       "2     Kelly Williams  Central\n",
       "3  Cassandra Brandow    South"
      ]
     },
     "execution_count": 9,
     "metadata": {},
     "output_type": "execute_result"
    }
   ],
   "source": [
    "sql_query3 = pd.read_sql_query('SELECT * FROM people', mydb)\n",
    "                            \n",
    "people = pd.DataFrame(sql_query3, columns = ['Person', 'Region'])\n",
    "people"
   ]
  },
  {
   "cell_type": "markdown",
   "id": "f322f18d",
   "metadata": {},
   "source": [
    "## Analysis of Data"
   ]
  },
  {
   "cell_type": "markdown",
   "id": "289df36e",
   "metadata": {},
   "source": [
    "###  1. Monthly Sales"
   ]
  },
  {
   "cell_type": "code",
   "execution_count": 10,
   "id": "0707c77b",
   "metadata": {},
   "outputs": [
    {
     "name": "stdout",
     "output_type": "stream",
     "text": [
      "(11, 352461.07)\n",
      "(6, 152718.68)\n",
      "(10, 200322.98)\n",
      "(4, 137762.13)\n",
      "(12, 325293.5)\n",
      "(5, 155028.81)\n",
      "(8, 159044.06)\n",
      "(7, 147238.1)\n",
      "(9, 307649.95)\n",
      "(1, 94924.84)\n",
      "(3, 205005.49)\n",
      "(2, 59751.25)\n"
     ]
    }
   ],
   "source": [
    "query1 = \"SELECT MONTH(`Order date`) AS Month,round(SUM(Sales),2) AS Total_Sales FROM Orders GROUP BY  MONTH(`Order date`)\"\n",
    "mycursor.execute(query1)\n",
    "myresult=mycursor.fetchall()\n",
    "for x in myresult:\n",
    "    print (x)"
   ]
  },
  {
   "cell_type": "code",
   "execution_count": 11,
   "id": "e54f2891",
   "metadata": {},
   "outputs": [
    {
     "data": {
      "text/html": [
       "<div>\n",
       "<style scoped>\n",
       "    .dataframe tbody tr th:only-of-type {\n",
       "        vertical-align: middle;\n",
       "    }\n",
       "\n",
       "    .dataframe tbody tr th {\n",
       "        vertical-align: top;\n",
       "    }\n",
       "\n",
       "    .dataframe thead th {\n",
       "        text-align: right;\n",
       "    }\n",
       "</style>\n",
       "<table border=\"1\" class=\"dataframe\">\n",
       "  <thead>\n",
       "    <tr style=\"text-align: right;\">\n",
       "      <th></th>\n",
       "      <th>Month</th>\n",
       "      <th>Sales</th>\n",
       "    </tr>\n",
       "  </thead>\n",
       "  <tbody>\n",
       "    <tr>\n",
       "      <th>0</th>\n",
       "      <td>11</td>\n",
       "      <td>352461.07</td>\n",
       "    </tr>\n",
       "    <tr>\n",
       "      <th>1</th>\n",
       "      <td>6</td>\n",
       "      <td>152718.68</td>\n",
       "    </tr>\n",
       "    <tr>\n",
       "      <th>2</th>\n",
       "      <td>10</td>\n",
       "      <td>200322.98</td>\n",
       "    </tr>\n",
       "    <tr>\n",
       "      <th>3</th>\n",
       "      <td>4</td>\n",
       "      <td>137762.13</td>\n",
       "    </tr>\n",
       "    <tr>\n",
       "      <th>4</th>\n",
       "      <td>12</td>\n",
       "      <td>325293.50</td>\n",
       "    </tr>\n",
       "    <tr>\n",
       "      <th>5</th>\n",
       "      <td>5</td>\n",
       "      <td>155028.81</td>\n",
       "    </tr>\n",
       "    <tr>\n",
       "      <th>6</th>\n",
       "      <td>8</td>\n",
       "      <td>159044.06</td>\n",
       "    </tr>\n",
       "    <tr>\n",
       "      <th>7</th>\n",
       "      <td>7</td>\n",
       "      <td>147238.10</td>\n",
       "    </tr>\n",
       "    <tr>\n",
       "      <th>8</th>\n",
       "      <td>9</td>\n",
       "      <td>307649.95</td>\n",
       "    </tr>\n",
       "    <tr>\n",
       "      <th>9</th>\n",
       "      <td>1</td>\n",
       "      <td>94924.84</td>\n",
       "    </tr>\n",
       "    <tr>\n",
       "      <th>10</th>\n",
       "      <td>3</td>\n",
       "      <td>205005.49</td>\n",
       "    </tr>\n",
       "    <tr>\n",
       "      <th>11</th>\n",
       "      <td>2</td>\n",
       "      <td>59751.25</td>\n",
       "    </tr>\n",
       "  </tbody>\n",
       "</table>\n",
       "</div>"
      ],
      "text/plain": [
       "    Month      Sales\n",
       "0      11  352461.07\n",
       "1       6  152718.68\n",
       "2      10  200322.98\n",
       "3       4  137762.13\n",
       "4      12  325293.50\n",
       "5       5  155028.81\n",
       "6       8  159044.06\n",
       "7       7  147238.10\n",
       "8       9  307649.95\n",
       "9       1   94924.84\n",
       "10      3  205005.49\n",
       "11      2   59751.25"
      ]
     },
     "execution_count": 11,
     "metadata": {},
     "output_type": "execute_result"
    }
   ],
   "source": [
    "query1=pd.DataFrame(myresult,columns=['Month','Sales'])\n",
    "query1"
   ]
  },
  {
   "cell_type": "code",
   "execution_count": 12,
   "id": "7850c361",
   "metadata": {},
   "outputs": [
    {
     "data": {
      "text/plain": [
       "<Axes: xlabel='Month', ylabel='Sales'>"
      ]
     },
     "execution_count": 12,
     "metadata": {},
     "output_type": "execute_result"
    },
    {
     "data": {
      "image/png": "[encoded data removed]",
      "text/plain": [
       "<Figure size 640x480 with 1 Axes>"
      ]
     },
     "metadata": {},
     "output_type": "display_data"
    }
   ],
   "source": [
    "import seaborn as sns\n",
    "sns.barplot(x=\"Month\",y=\"Sales\",data=query1,errorbar=('ci', 0))"
   ]
  },
  {
   "cell_type": "markdown",
   "id": "a8da1a56",
   "metadata": {},
   "source": [
    "#### INSIGHTS :\n",
    "In November and December, the majority of sales occur, while February typically sees the lowest sales figures. Monthly Sales analysis helps in understanding seasonal patterns and to plan inventory level.\n",
    "Recognizing this trend, it's advantageous to stock more products in peak months and implement marketing strategies or special offers to boost sales during slower months. "
   ]
  },
  {
   "cell_type": "markdown",
   "id": "498b2fac",
   "metadata": {},
   "source": [
    "### 2. Monthly Profits"
   ]
  },
  {
   "cell_type": "code",
   "execution_count": 13,
   "id": "56e811bd",
   "metadata": {},
   "outputs": [
    {
     "name": "stdout",
     "output_type": "stream",
     "text": [
      "(11, 35468.43)\n",
      "(6, 21285.8)\n",
      "(10, 31784.04)\n",
      "(4, 11587.44)\n",
      "(12, 43369.19)\n",
      "(5, 22411.31)\n",
      "(8, 21776.94)\n",
      "(7, 13832.66)\n",
      "(9, 36857.48)\n",
      "(1, 9134.45)\n",
      "(3, 28594.69)\n",
      "(2, 10294.61)\n"
     ]
    }
   ],
   "source": [
    "query2 = \"Select month(`order date`) as month,round(sum(profit),2) from orders group by month\"\n",
    "mycursor.execute(query2)\n",
    "myresult=mycursor.fetchall()\n",
    "for x in myresult:\n",
    "    print(x)"
   ]
  },
  {
   "cell_type": "code",
   "execution_count": 14,
   "id": "5c8c6dba",
   "metadata": {},
   "outputs": [
    {
     "data": {
      "text/html": [
       "<div>\n",
       "<style scoped>\n",
       "    .dataframe tbody tr th:only-of-type {\n",
       "        vertical-align: middle;\n",
       "    }\n",
       "\n",
       "    .dataframe tbody tr th {\n",
       "        vertical-align: top;\n",
       "    }\n",
       "\n",
       "    .dataframe thead th {\n",
       "        text-align: right;\n",
       "    }\n",
       "</style>\n",
       "<table border=\"1\" class=\"dataframe\">\n",
       "  <thead>\n",
       "    <tr style=\"text-align: right;\">\n",
       "      <th></th>\n",
       "      <th>Month</th>\n",
       "      <th>Profits</th>\n",
       "    </tr>\n",
       "  </thead>\n",
       "  <tbody>\n",
       "    <tr>\n",
       "      <th>0</th>\n",
       "      <td>11</td>\n",
       "      <td>35468.43</td>\n",
       "    </tr>\n",
       "    <tr>\n",
       "      <th>1</th>\n",
       "      <td>6</td>\n",
       "      <td>21285.80</td>\n",
       "    </tr>\n",
       "    <tr>\n",
       "      <th>2</th>\n",
       "      <td>10</td>\n",
       "      <td>31784.04</td>\n",
       "    </tr>\n",
       "    <tr>\n",
       "      <th>3</th>\n",
       "      <td>4</td>\n",
       "      <td>11587.44</td>\n",
       "    </tr>\n",
       "    <tr>\n",
       "      <th>4</th>\n",
       "      <td>12</td>\n",
       "      <td>43369.19</td>\n",
       "    </tr>\n",
       "    <tr>\n",
       "      <th>5</th>\n",
       "      <td>5</td>\n",
       "      <td>22411.31</td>\n",
       "    </tr>\n",
       "    <tr>\n",
       "      <th>6</th>\n",
       "      <td>8</td>\n",
       "      <td>21776.94</td>\n",
       "    </tr>\n",
       "    <tr>\n",
       "      <th>7</th>\n",
       "      <td>7</td>\n",
       "      <td>13832.66</td>\n",
       "    </tr>\n",
       "    <tr>\n",
       "      <th>8</th>\n",
       "      <td>9</td>\n",
       "      <td>36857.48</td>\n",
       "    </tr>\n",
       "    <tr>\n",
       "      <th>9</th>\n",
       "      <td>1</td>\n",
       "      <td>9134.45</td>\n",
       "    </tr>\n",
       "    <tr>\n",
       "      <th>10</th>\n",
       "      <td>3</td>\n",
       "      <td>28594.69</td>\n",
       "    </tr>\n",
       "    <tr>\n",
       "      <th>11</th>\n",
       "      <td>2</td>\n",
       "      <td>10294.61</td>\n",
       "    </tr>\n",
       "  </tbody>\n",
       "</table>\n",
       "</div>"
      ],
      "text/plain": [
       "    Month   Profits\n",
       "0      11  35468.43\n",
       "1       6  21285.80\n",
       "2      10  31784.04\n",
       "3       4  11587.44\n",
       "4      12  43369.19\n",
       "5       5  22411.31\n",
       "6       8  21776.94\n",
       "7       7  13832.66\n",
       "8       9  36857.48\n",
       "9       1   9134.45\n",
       "10      3  28594.69\n",
       "11      2  10294.61"
      ]
     },
     "execution_count": 14,
     "metadata": {},
     "output_type": "execute_result"
    }
   ],
   "source": [
    "query2=pd.DataFrame(myresult,columns=['Month','Profits'])\n",
    "query2"
   ]
  },
  {
   "cell_type": "code",
   "execution_count": 15,
   "id": "19975c83",
   "metadata": {},
   "outputs": [
    {
     "data": {
      "text/plain": [
       "<Axes: xlabel='Month', ylabel='Profits'>"
      ]
     },
     "execution_count": 15,
     "metadata": {},
     "output_type": "execute_result"
    },
    {
     "data": {
      "image/png": "[encoded data removed]",
      "text/plain": [
       "<Figure size 640x480 with 1 Axes>"
      ]
     },
     "metadata": {},
     "output_type": "display_data"
    }
   ],
   "source": [
    "sns.barplot(x=query2['Month'],y=query2['Profits'],data=query2,errorbar=('ci',0))"
   ]
  },
  {
   "cell_type": "markdown",
   "id": "a04cfbdd",
   "metadata": {},
   "source": [
    "#### INSIGHTS :\n",
    "It's evident that profits are highest in December, closely followed by September. Interestingly, despite November having the highest sales, profits are relatively lower. March sees a slight increase in profits, while compared to the sales of May, June and October, profits are notably higher.  Understanding these seasonal profit trends can help businesses adjust their strategies to maximize profitability throughout the year."
   ]
  },
  {
   "cell_type": "markdown",
   "id": "3b861150",
   "metadata": {},
   "source": [
    "### 3. Monthly Average Profit Margin percentage "
   ]
  },
  {
   "cell_type": "code",
   "execution_count": 16,
   "id": "0e0bd49c",
   "metadata": {},
   "outputs": [
    {
     "name": "stdout",
     "output_type": "stream",
     "text": [
      "(11, 11.8)\n",
      "(6, 10.96)\n",
      "(10, 10.09)\n",
      "(4, 10.47)\n",
      "(12, 13.13)\n",
      "(5, 9.83)\n",
      "(8, 13.78)\n",
      "(7, 12.1)\n",
      "(9, 13.92)\n",
      "(1, 11.91)\n",
      "(3, 12.13)\n",
      "(2, 11.68)\n"
     ]
    }
   ],
   "source": [
    "query3=\"SELECT month(`order date`),round(avg((profit/sales)*100),2) from orders GROUP BY month(`order date`)\"\n",
    "mycursor.execute(query3)\n",
    "myresult=mycursor.fetchall()\n",
    "for x in myresult:\n",
    "    print(x)"
   ]
  },
  {
   "cell_type": "code",
   "execution_count": 17,
   "id": "20cd53b6",
   "metadata": {},
   "outputs": [
    {
     "data": {
      "text/html": [
       "<div>\n",
       "<style scoped>\n",
       "    .dataframe tbody tr th:only-of-type {\n",
       "        vertical-align: middle;\n",
       "    }\n",
       "\n",
       "    .dataframe tbody tr th {\n",
       "        vertical-align: top;\n",
       "    }\n",
       "\n",
       "    .dataframe thead th {\n",
       "        text-align: right;\n",
       "    }\n",
       "</style>\n",
       "<table border=\"1\" class=\"dataframe\">\n",
       "  <thead>\n",
       "    <tr style=\"text-align: right;\">\n",
       "      <th></th>\n",
       "      <th>Month</th>\n",
       "      <th>Avg_profit_margin</th>\n",
       "    </tr>\n",
       "  </thead>\n",
       "  <tbody>\n",
       "    <tr>\n",
       "      <th>0</th>\n",
       "      <td>11</td>\n",
       "      <td>11.80</td>\n",
       "    </tr>\n",
       "    <tr>\n",
       "      <th>1</th>\n",
       "      <td>6</td>\n",
       "      <td>10.96</td>\n",
       "    </tr>\n",
       "    <tr>\n",
       "      <th>2</th>\n",
       "      <td>10</td>\n",
       "      <td>10.09</td>\n",
       "    </tr>\n",
       "    <tr>\n",
       "      <th>3</th>\n",
       "      <td>4</td>\n",
       "      <td>10.47</td>\n",
       "    </tr>\n",
       "    <tr>\n",
       "      <th>4</th>\n",
       "      <td>12</td>\n",
       "      <td>13.13</td>\n",
       "    </tr>\n",
       "    <tr>\n",
       "      <th>5</th>\n",
       "      <td>5</td>\n",
       "      <td>9.83</td>\n",
       "    </tr>\n",
       "    <tr>\n",
       "      <th>6</th>\n",
       "      <td>8</td>\n",
       "      <td>13.78</td>\n",
       "    </tr>\n",
       "    <tr>\n",
       "      <th>7</th>\n",
       "      <td>7</td>\n",
       "      <td>12.10</td>\n",
       "    </tr>\n",
       "    <tr>\n",
       "      <th>8</th>\n",
       "      <td>9</td>\n",
       "      <td>13.92</td>\n",
       "    </tr>\n",
       "    <tr>\n",
       "      <th>9</th>\n",
       "      <td>1</td>\n",
       "      <td>11.91</td>\n",
       "    </tr>\n",
       "    <tr>\n",
       "      <th>10</th>\n",
       "      <td>3</td>\n",
       "      <td>12.13</td>\n",
       "    </tr>\n",
       "    <tr>\n",
       "      <th>11</th>\n",
       "      <td>2</td>\n",
       "      <td>11.68</td>\n",
       "    </tr>\n",
       "  </tbody>\n",
       "</table>\n",
       "</div>"
      ],
      "text/plain": [
       "    Month  Avg_profit_margin\n",
       "0      11              11.80\n",
       "1       6              10.96\n",
       "2      10              10.09\n",
       "3       4              10.47\n",
       "4      12              13.13\n",
       "5       5               9.83\n",
       "6       8              13.78\n",
       "7       7              12.10\n",
       "8       9              13.92\n",
       "9       1              11.91\n",
       "10      3              12.13\n",
       "11      2              11.68"
      ]
     },
     "execution_count": 17,
     "metadata": {},
     "output_type": "execute_result"
    }
   ],
   "source": [
    "query3=pd.DataFrame(myresult,columns=['Month','Avg_profit_margin'])\n",
    "query3"
   ]
  },
  {
   "cell_type": "code",
   "execution_count": 18,
   "id": "a91ae0db",
   "metadata": {},
   "outputs": [
    {
     "data": {
      "text/plain": [
       "<Axes: xlabel='Month', ylabel='Avg_profit_margin'>"
      ]
     },
     "execution_count": 18,
     "metadata": {},
     "output_type": "execute_result"
    },
    {
     "data": {
      "image/png": "[encoded data removed]",
      "text/plain": [
       "<Figure size 640x480 with 1 Axes>"
      ]
     },
     "metadata": {},
     "output_type": "display_data"
    }
   ],
   "source": [
    "sns.barplot(x=query3['Month'],y=query3['Avg_profit_margin'],data=query3,errorbar=('ci',0))"
   ]
  },
  {
   "cell_type": "markdown",
   "id": "8f967892",
   "metadata": {},
   "source": [
    "#### INSIGHTS : \n",
    "This bar graph represents average profit margins by month. Septeber shows the highest average profit margin, followed by August and December. May exhibits the lowest average profit margin. Understanding these monthly variations in profit margins can help businesses evaluate pricing strategies, cost management, and revenue generation tactics throughout the year."
   ]
  },
  {
   "cell_type": "markdown",
   "id": "a87fa158",
   "metadata": {},
   "source": [
    "### 4. Categorical and Sub-Categorical Sales"
   ]
  },
  {
   "cell_type": "code",
   "execution_count": 19,
   "id": "6d7526ee",
   "metadata": {},
   "outputs": [
    {
     "name": "stdout",
     "output_type": "stream",
     "text": [
      "('Office Supplies', 719047.0)\n",
      "('Furniture', 742000.0)\n",
      "('Technology', 836154.0)\n"
     ]
    }
   ],
   "source": [
    "query4 = \"SELECT Category, round(sum(sales)) FROM Orders GROUP BY category ORDER BY COUNT(category) DESC\"\n",
    "\n",
    "mycursor.execute(query4)\n",
    "myresult = mycursor.fetchall()\n",
    "\n",
    "for x in myresult:\n",
    "      print(x)"
   ]
  },
  {
   "cell_type": "code",
   "execution_count": 20,
   "id": "80bfbb5b",
   "metadata": {},
   "outputs": [
    {
     "data": {
      "text/html": [
       "<div>\n",
       "<style scoped>\n",
       "    .dataframe tbody tr th:only-of-type {\n",
       "        vertical-align: middle;\n",
       "    }\n",
       "\n",
       "    .dataframe tbody tr th {\n",
       "        vertical-align: top;\n",
       "    }\n",
       "\n",
       "    .dataframe thead th {\n",
       "        text-align: right;\n",
       "    }\n",
       "</style>\n",
       "<table border=\"1\" class=\"dataframe\">\n",
       "  <thead>\n",
       "    <tr style=\"text-align: right;\">\n",
       "      <th></th>\n",
       "      <th>Category</th>\n",
       "      <th>Sales</th>\n",
       "    </tr>\n",
       "  </thead>\n",
       "  <tbody>\n",
       "    <tr>\n",
       "      <th>0</th>\n",
       "      <td>Office Supplies</td>\n",
       "      <td>719047.0</td>\n",
       "    </tr>\n",
       "    <tr>\n",
       "      <th>1</th>\n",
       "      <td>Furniture</td>\n",
       "      <td>742000.0</td>\n",
       "    </tr>\n",
       "    <tr>\n",
       "      <th>2</th>\n",
       "      <td>Technology</td>\n",
       "      <td>836154.0</td>\n",
       "    </tr>\n",
       "  </tbody>\n",
       "</table>\n",
       "</div>"
      ],
      "text/plain": [
       "          Category     Sales\n",
       "0  Office Supplies  719047.0\n",
       "1        Furniture  742000.0\n",
       "2       Technology  836154.0"
      ]
     },
     "execution_count": 20,
     "metadata": {},
     "output_type": "execute_result"
    }
   ],
   "source": [
    "query4 = pd.DataFrame(myresult, columns = ['Category','Sales'])\n",
    "query4"
   ]
  },
  {
   "cell_type": "code",
   "execution_count": 21,
   "id": "82010507",
   "metadata": {},
   "outputs": [
    {
     "data": {
      "text/plain": [
       "Text(0.5, 1.0, 'Categorical Sales')"
      ]
     },
     "execution_count": 21,
     "metadata": {},
     "output_type": "execute_result"
    },
    {
     "data": {
      "image/png": "[encoded data removed]",
      "text/plain": [
       "<Figure size 640x480 with 1 Axes>"
      ]
     },
     "metadata": {},
     "output_type": "display_data"
    }
   ],
   "source": [
    "import matplotlib.pyplot as plt\n",
    "plt.pie(query4['Sales'],labels = query4['Category'], explode=None, colors=None, autopct=\"%0.2f%%\", shadow=False)\n",
    "plt.title(\"Categorical Sales\")"
   ]
  },
  {
   "cell_type": "markdown",
   "id": "e1248472",
   "metadata": {},
   "source": [
    "#### INSIGHTS :\n",
    "The pie chart reveals distinct sales patterns across three main categories: Technology, Furniture, and Office Supplies. Technology emerges as the top-selling category, highlighting strong consumer demand for technological products. Furniture follows closely behind whereas Office Supplies, while still substantial, exhibit slightly lower sales, suggesting potential opportunities for targeted marketing or product innovation to enhance category performance."
   ]
  },
  {
   "cell_type": "code",
   "execution_count": 22,
   "id": "f734d703",
   "metadata": {},
   "outputs": [
    {
     "name": "stdout",
     "output_type": "stream",
     "text": [
      "('Binders', 203413.0)\n",
      "('Paper', 78479.0)\n",
      "('Furnishings', 91705.0)\n",
      "('Phones', 330007.0)\n",
      "('Storage', 223844.0)\n",
      "('Art', 27119.0)\n",
      "('Accessories', 167380.0)\n",
      "('Chairs', 328449.0)\n",
      "('Appliances', 107532.0)\n",
      "('Labels', 12486.0)\n",
      "('Tables', 206966.0)\n",
      "('Envelopes', 16476.0)\n",
      "('Bookcases', 114880.0)\n",
      "('Fasteners', 3024.0)\n",
      "('Supplies', 46674.0)\n",
      "('Machines', 189239.0)\n",
      "('Copiers', 149528.0)\n"
     ]
    }
   ],
   "source": [
    "query4_1 = \"SELECT `Sub-Category`, round(sum(sales)) FROM Orders GROUP BY `sub-category` ORDER BY COUNT(`sub-category`) DESC\"\n",
    "\n",
    "mycursor.execute(query4_1)\n",
    "myresult = mycursor.fetchall()\n",
    "\n",
    "for x in myresult:\n",
    "      print(x)"
   ]
  },
  {
   "cell_type": "code",
   "execution_count": 23,
   "id": "98599808",
   "metadata": {},
   "outputs": [
    {
     "data": {
      "text/html": [
       "<div>\n",
       "<style scoped>\n",
       "    .dataframe tbody tr th:only-of-type {\n",
       "        vertical-align: middle;\n",
       "    }\n",
       "\n",
       "    .dataframe tbody tr th {\n",
       "        vertical-align: top;\n",
       "    }\n",
       "\n",
       "    .dataframe thead th {\n",
       "        text-align: right;\n",
       "    }\n",
       "</style>\n",
       "<table border=\"1\" class=\"dataframe\">\n",
       "  <thead>\n",
       "    <tr style=\"text-align: right;\">\n",
       "      <th></th>\n",
       "      <th>Sub-Category</th>\n",
       "      <th>Sales</th>\n",
       "    </tr>\n",
       "  </thead>\n",
       "  <tbody>\n",
       "    <tr>\n",
       "      <th>0</th>\n",
       "      <td>Binders</td>\n",
       "      <td>203413.0</td>\n",
       "    </tr>\n",
       "    <tr>\n",
       "      <th>1</th>\n",
       "      <td>Paper</td>\n",
       "      <td>78479.0</td>\n",
       "    </tr>\n",
       "    <tr>\n",
       "      <th>2</th>\n",
       "      <td>Furnishings</td>\n",
       "      <td>91705.0</td>\n",
       "    </tr>\n",
       "    <tr>\n",
       "      <th>3</th>\n",
       "      <td>Phones</td>\n",
       "      <td>330007.0</td>\n",
       "    </tr>\n",
       "    <tr>\n",
       "      <th>4</th>\n",
       "      <td>Storage</td>\n",
       "      <td>223844.0</td>\n",
       "    </tr>\n",
       "    <tr>\n",
       "      <th>5</th>\n",
       "      <td>Art</td>\n",
       "      <td>27119.0</td>\n",
       "    </tr>\n",
       "    <tr>\n",
       "      <th>6</th>\n",
       "      <td>Accessories</td>\n",
       "      <td>167380.0</td>\n",
       "    </tr>\n",
       "    <tr>\n",
       "      <th>7</th>\n",
       "      <td>Chairs</td>\n",
       "      <td>328449.0</td>\n",
       "    </tr>\n",
       "    <tr>\n",
       "      <th>8</th>\n",
       "      <td>Appliances</td>\n",
       "      <td>107532.0</td>\n",
       "    </tr>\n",
       "    <tr>\n",
       "      <th>9</th>\n",
       "      <td>Labels</td>\n",
       "      <td>12486.0</td>\n",
       "    </tr>\n",
       "    <tr>\n",
       "      <th>10</th>\n",
       "      <td>Tables</td>\n",
       "      <td>206966.0</td>\n",
       "    </tr>\n",
       "    <tr>\n",
       "      <th>11</th>\n",
       "      <td>Envelopes</td>\n",
       "      <td>16476.0</td>\n",
       "    </tr>\n",
       "    <tr>\n",
       "      <th>12</th>\n",
       "      <td>Bookcases</td>\n",
       "      <td>114880.0</td>\n",
       "    </tr>\n",
       "    <tr>\n",
       "      <th>13</th>\n",
       "      <td>Fasteners</td>\n",
       "      <td>3024.0</td>\n",
       "    </tr>\n",
       "    <tr>\n",
       "      <th>14</th>\n",
       "      <td>Supplies</td>\n",
       "      <td>46674.0</td>\n",
       "    </tr>\n",
       "    <tr>\n",
       "      <th>15</th>\n",
       "      <td>Machines</td>\n",
       "      <td>189239.0</td>\n",
       "    </tr>\n",
       "    <tr>\n",
       "      <th>16</th>\n",
       "      <td>Copiers</td>\n",
       "      <td>149528.0</td>\n",
       "    </tr>\n",
       "  </tbody>\n",
       "</table>\n",
       "</div>"
      ],
      "text/plain": [
       "   Sub-Category     Sales\n",
       "0       Binders  203413.0\n",
       "1         Paper   78479.0\n",
       "2   Furnishings   91705.0\n",
       "3        Phones  330007.0\n",
       "4       Storage  223844.0\n",
       "5           Art   27119.0\n",
       "6   Accessories  167380.0\n",
       "7        Chairs  328449.0\n",
       "8    Appliances  107532.0\n",
       "9        Labels   12486.0\n",
       "10       Tables  206966.0\n",
       "11    Envelopes   16476.0\n",
       "12    Bookcases  114880.0\n",
       "13    Fasteners    3024.0\n",
       "14     Supplies   46674.0\n",
       "15     Machines  189239.0\n",
       "16      Copiers  149528.0"
      ]
     },
     "execution_count": 23,
     "metadata": {},
     "output_type": "execute_result"
    }
   ],
   "source": [
    "query4_1= pd.DataFrame(myresult, columns = ['Sub-Category','Sales'])\n",
    "query4_1"
   ]
  },
  {
   "cell_type": "code",
   "execution_count": 24,
   "id": "72670217",
   "metadata": {},
   "outputs": [
    {
     "data": {
      "image/png": "[encoded data removed]",
      "text/plain": [
       "<Figure size 640x480 with 1 Axes>"
      ]
     },
     "metadata": {},
     "output_type": "display_data"
    }
   ],
   "source": [
    "sns.barplot(x=query4_1[\"Sub-Category\"],y=query4_1[\"Sales\"],data=query4_1,estimator=np.median,errorbar=(\"ci\",0),palette=\"viridis\")\n",
    "plt.title(\"Sub-Categorical Sales\")\n",
    "plt.xticks(rotation=90);"
   ]
  },
  {
   "cell_type": "markdown",
   "id": "5fe39c65",
   "metadata": {},
   "source": [
    "####  INSIGHTS :\n",
    "Among the sub-categories, Fasteners exhibit the lowest sales, closely followed by Labels which perform slightly better. Conversely, Phones and Chairs emerge as the top-selling products according to the bar graph. Therefore, it's apparent that addressing the sales of Fasteners and Labels is necessary, while also capitalizing on marketing strategies to further boost sales of our best-selling products."
   ]
  },
  {
   "cell_type": "markdown",
   "id": "85d0182e",
   "metadata": {},
   "source": [
    "### 5. Categorical and Sub-Categorical Profits"
   ]
  },
  {
   "cell_type": "code",
   "execution_count": 35,
   "id": "bcaac989",
   "metadata": {},
   "outputs": [
    {
     "name": "stdout",
     "output_type": "stream",
     "text": [
      "('Technology', 145454.95)\n",
      "('Office Supplies', 122490.8)\n",
      "('Furniture', 18451.27)\n"
     ]
    }
   ],
   "source": [
    "query5=\"select category, round(sum(profit),2) as profit from orders group by category order by profit desc\"\n",
    "mycursor.execute(query5)\n",
    "myresult = mycursor.fetchall()\n",
    "for i in myresult:\n",
    "    print(i)"
   ]
  },
  {
   "cell_type": "code",
   "execution_count": 32,
   "id": "92c19e6c",
   "metadata": {},
   "outputs": [
    {
     "data": {
      "text/html": [
       "<div>\n",
       "<style scoped>\n",
       "    .dataframe tbody tr th:only-of-type {\n",
       "        vertical-align: middle;\n",
       "    }\n",
       "\n",
       "    .dataframe tbody tr th {\n",
       "        vertical-align: top;\n",
       "    }\n",
       "\n",
       "    .dataframe thead th {\n",
       "        text-align: right;\n",
       "    }\n",
       "</style>\n",
       "<table border=\"1\" class=\"dataframe\">\n",
       "  <thead>\n",
       "    <tr style=\"text-align: right;\">\n",
       "      <th></th>\n",
       "      <th>Category</th>\n",
       "      <th>Profits</th>\n",
       "    </tr>\n",
       "  </thead>\n",
       "  <tbody>\n",
       "    <tr>\n",
       "      <th>0</th>\n",
       "      <td>Office Supplies</td>\n",
       "      <td>6026</td>\n",
       "    </tr>\n",
       "    <tr>\n",
       "      <th>1</th>\n",
       "      <td>Furniture</td>\n",
       "      <td>2121</td>\n",
       "    </tr>\n",
       "    <tr>\n",
       "      <th>2</th>\n",
       "      <td>Technology</td>\n",
       "      <td>1847</td>\n",
       "    </tr>\n",
       "  </tbody>\n",
       "</table>\n",
       "</div>"
      ],
      "text/plain": [
       "          Category  Profits\n",
       "0  Office Supplies     6026\n",
       "1        Furniture     2121\n",
       "2       Technology     1847"
      ]
     },
     "execution_count": 32,
     "metadata": {},
     "output_type": "execute_result"
    }
   ],
   "source": [
    "query5=pd.DataFrame(myresult,columns=['Category','Profits'])\n",
    "query5"
   ]
  },
  {
   "cell_type": "code",
   "execution_count": 27,
   "id": "4ab47dff",
   "metadata": {},
   "outputs": [
    {
     "data": {
      "text/plain": [
       "Text(0.5, 1.0, 'Categorical Profits')"
      ]
     },
     "execution_count": 27,
     "metadata": {},
     "output_type": "execute_result"
    },
    {
     "data": {
      "image/png": "[encoded data removed]",
      "text/plain": [
       "<Figure size 640x480 with 1 Axes>"
      ]
     },
     "metadata": {},
     "output_type": "display_data"
    }
   ],
   "source": [
    "plt.pie(query5['Profits'],labels = query5['Category'], explode=None, colors=None, autopct=\"%0.2f%%\", shadow=False)\n",
    "plt.title('Categorical Profits')"
   ]
  },
  {
   "cell_type": "markdown",
   "id": "23af4fdc",
   "metadata": {},
   "source": [
    "#### INSIGHTS :\n",
    "Over 50% of the profits are attributed to the Technology category, followed by Office Supplies with approximately 43%. Conversely, Furniture is generating the least profit. The pie chart helps to understand on the allocation of resources. It also shows that Furniture Category needs attention in order to increase to profits."
   ]
  },
  {
   "cell_type": "code",
   "execution_count": 28,
   "id": "70c36815",
   "metadata": {},
   "outputs": [
    {
     "name": "stdout",
     "output_type": "stream",
     "text": [
      "('Copiers', 55617.82)\n",
      "('Phones', 44515.73)\n",
      "('Accessories', 41936.64)\n",
      "('Paper', 34053.57)\n",
      "('Binders', 30221.76)\n",
      "('Chairs', 26590.17)\n",
      "('Storage', 21278.83)\n",
      "('Appliances', 18138.01)\n",
      "('Furnishings', 13059.14)\n",
      "('Envelopes', 6964.18)\n",
      "('Art', 6527.79)\n",
      "('Labels', 5546.25)\n",
      "('Machines', 3384.76)\n",
      "('Fasteners', 949.52)\n",
      "('Supplies', -1189.1)\n",
      "('Bookcases', -3472.56)\n",
      "('Tables', -17725.48)\n"
     ]
    }
   ],
   "source": [
    "query5_1 = \"select `Sub-Category`, round(sum(profit),2) as profit from Orders group by `Sub-Category` order by profit desc\"\n",
    "\n",
    "mycursor.execute(query5_1)\n",
    "myresult = mycursor.fetchall()\n",
    "for i in myresult:\n",
    "    print(i)"
   ]
  },
  {
   "cell_type": "code",
   "execution_count": 29,
   "id": "2a7a2688",
   "metadata": {},
   "outputs": [
    {
     "data": {
      "text/html": [
       "<div>\n",
       "<style scoped>\n",
       "    .dataframe tbody tr th:only-of-type {\n",
       "        vertical-align: middle;\n",
       "    }\n",
       "\n",
       "    .dataframe tbody tr th {\n",
       "        vertical-align: top;\n",
       "    }\n",
       "\n",
       "    .dataframe thead th {\n",
       "        text-align: right;\n",
       "    }\n",
       "</style>\n",
       "<table border=\"1\" class=\"dataframe\">\n",
       "  <thead>\n",
       "    <tr style=\"text-align: right;\">\n",
       "      <th></th>\n",
       "      <th>Sub-Category</th>\n",
       "      <th>Profits</th>\n",
       "    </tr>\n",
       "  </thead>\n",
       "  <tbody>\n",
       "    <tr>\n",
       "      <th>0</th>\n",
       "      <td>Copiers</td>\n",
       "      <td>55617.82</td>\n",
       "    </tr>\n",
       "    <tr>\n",
       "      <th>1</th>\n",
       "      <td>Phones</td>\n",
       "      <td>44515.73</td>\n",
       "    </tr>\n",
       "    <tr>\n",
       "      <th>2</th>\n",
       "      <td>Accessories</td>\n",
       "      <td>41936.64</td>\n",
       "    </tr>\n",
       "    <tr>\n",
       "      <th>3</th>\n",
       "      <td>Paper</td>\n",
       "      <td>34053.57</td>\n",
       "    </tr>\n",
       "    <tr>\n",
       "      <th>4</th>\n",
       "      <td>Binders</td>\n",
       "      <td>30221.76</td>\n",
       "    </tr>\n",
       "    <tr>\n",
       "      <th>5</th>\n",
       "      <td>Chairs</td>\n",
       "      <td>26590.17</td>\n",
       "    </tr>\n",
       "    <tr>\n",
       "      <th>6</th>\n",
       "      <td>Storage</td>\n",
       "      <td>21278.83</td>\n",
       "    </tr>\n",
       "    <tr>\n",
       "      <th>7</th>\n",
       "      <td>Appliances</td>\n",
       "      <td>18138.01</td>\n",
       "    </tr>\n",
       "    <tr>\n",
       "      <th>8</th>\n",
       "      <td>Furnishings</td>\n",
       "      <td>13059.14</td>\n",
       "    </tr>\n",
       "    <tr>\n",
       "      <th>9</th>\n",
       "      <td>Envelopes</td>\n",
       "      <td>6964.18</td>\n",
       "    </tr>\n",
       "    <tr>\n",
       "      <th>10</th>\n",
       "      <td>Art</td>\n",
       "      <td>6527.79</td>\n",
       "    </tr>\n",
       "    <tr>\n",
       "      <th>11</th>\n",
       "      <td>Labels</td>\n",
       "      <td>5546.25</td>\n",
       "    </tr>\n",
       "    <tr>\n",
       "      <th>12</th>\n",
       "      <td>Machines</td>\n",
       "      <td>3384.76</td>\n",
       "    </tr>\n",
       "    <tr>\n",
       "      <th>13</th>\n",
       "      <td>Fasteners</td>\n",
       "      <td>949.52</td>\n",
       "    </tr>\n",
       "    <tr>\n",
       "      <th>14</th>\n",
       "      <td>Supplies</td>\n",
       "      <td>-1189.10</td>\n",
       "    </tr>\n",
       "    <tr>\n",
       "      <th>15</th>\n",
       "      <td>Bookcases</td>\n",
       "      <td>-3472.56</td>\n",
       "    </tr>\n",
       "    <tr>\n",
       "      <th>16</th>\n",
       "      <td>Tables</td>\n",
       "      <td>-17725.48</td>\n",
       "    </tr>\n",
       "  </tbody>\n",
       "</table>\n",
       "</div>"
      ],
      "text/plain": [
       "   Sub-Category   Profits\n",
       "0       Copiers  55617.82\n",
       "1        Phones  44515.73\n",
       "2   Accessories  41936.64\n",
       "3         Paper  34053.57\n",
       "4       Binders  30221.76\n",
       "5        Chairs  26590.17\n",
       "6       Storage  21278.83\n",
       "7    Appliances  18138.01\n",
       "8   Furnishings  13059.14\n",
       "9     Envelopes   6964.18\n",
       "10          Art   6527.79\n",
       "11       Labels   5546.25\n",
       "12     Machines   3384.76\n",
       "13    Fasteners    949.52\n",
       "14     Supplies  -1189.10\n",
       "15    Bookcases  -3472.56\n",
       "16       Tables -17725.48"
      ]
     },
     "execution_count": 29,
     "metadata": {},
     "output_type": "execute_result"
    }
   ],
   "source": [
    "query5_1=pd.DataFrame(myresult,columns=['Sub-Category','Profits'])\n",
    "query5_1"
   ]
  },
  {
   "cell_type": "code",
   "execution_count": 30,
   "id": "fd4bef80",
   "metadata": {},
   "outputs": [
    {
     "data": {
      "text/plain": [
       "(array([ 0,  1,  2,  3,  4,  5,  6,  7,  8,  9, 10, 11, 12, 13, 14, 15, 16]),\n",
       " [Text(0, 0, 'Copiers'),\n",
       "  Text(1, 0, 'Phones'),\n",
       "  Text(2, 0, 'Accessories'),\n",
       "  Text(3, 0, 'Paper'),\n",
       "  Text(4, 0, 'Binders'),\n",
       "  Text(5, 0, 'Chairs'),\n",
       "  Text(6, 0, 'Storage'),\n",
       "  Text(7, 0, 'Appliances'),\n",
       "  Text(8, 0, 'Furnishings'),\n",
       "  Text(9, 0, 'Envelopes'),\n",
       "  Text(10, 0, 'Art'),\n",
       "  Text(11, 0, 'Labels'),\n",
       "  Text(12, 0, 'Machines'),\n",
       "  Text(13, 0, 'Fasteners'),\n",
       "  Text(14, 0, 'Supplies'),\n",
       "  Text(15, 0, 'Bookcases'),\n",
       "  Text(16, 0, 'Tables')])"
      ]
     },
     "execution_count": 30,
     "metadata": {},
     "output_type": "execute_result"
    },
    {
     "data": {
      "image/png": "[encoded data removed]",
      "text/plain": [
       "<Figure size 640x480 with 1 Axes>"
      ]
     },
     "metadata": {},
     "output_type": "display_data"
    }
   ],
   "source": [
    "sns.barplot(x=query5_1[\"Sub-Category\"],y=query5_1['Profits'],data=query5_1,errorbar=('ci',0))\n",
    "plt.title('Sub-Categorical Profits')\n",
    "plt.xticks(rotation=270)"
   ]
  },
  {
   "cell_type": "markdown",
   "id": "ec1028ae",
   "metadata": {},
   "source": [
    "#### INSIGHTS : \n",
    "The Sub-Categories generating significant profits include Copiers and Phones. However, Tables exhibit substantial losses, indicating a need for focused efforts to mitigate losses and potentially turn a profit. Additionally, several other Sub-Categories also indicate losses, suggesting the importance of striving to break even or improve profitability. Moreover, increasing sales of products within Sub-Categories with average profit margins can contribute to enhancing overall profitability."
   ]
  },
  {
   "cell_type": "markdown",
   "id": "4a1828b5",
   "metadata": {},
   "source": [
    "### 6. Average Quantity from each Category and Sub-Category"
   ]
  },
  {
   "cell_type": "code",
   "execution_count": 40,
   "id": "ccf5cc4a",
   "metadata": {},
   "outputs": [
    {
     "name": "stdout",
     "output_type": "stream",
     "text": [
      "('Furniture', Decimal('3.79'))\n",
      "('Office Supplies', Decimal('3.80'))\n",
      "('Technology', Decimal('3.76'))\n"
     ]
    }
   ],
   "source": [
    "query6=\"SELECT category, round(AVG(quantity),2) AS Avg_quantity FROM orders GROUP BY category;\"\n",
    "mycursor.execute(query6)\n",
    "myresult = mycursor.fetchall()\n",
    "for i in myresult:\n",
    "    print(i)"
   ]
  },
  {
   "cell_type": "code",
   "execution_count": 41,
   "id": "b24309a2",
   "metadata": {},
   "outputs": [
    {
     "data": {
      "text/html": [
       "<div>\n",
       "<style scoped>\n",
       "    .dataframe tbody tr th:only-of-type {\n",
       "        vertical-align: middle;\n",
       "    }\n",
       "\n",
       "    .dataframe tbody tr th {\n",
       "        vertical-align: top;\n",
       "    }\n",
       "\n",
       "    .dataframe thead th {\n",
       "        text-align: right;\n",
       "    }\n",
       "</style>\n",
       "<table border=\"1\" class=\"dataframe\">\n",
       "  <thead>\n",
       "    <tr style=\"text-align: right;\">\n",
       "      <th></th>\n",
       "      <th>Category</th>\n",
       "      <th>Avg_quantity</th>\n",
       "    </tr>\n",
       "  </thead>\n",
       "  <tbody>\n",
       "    <tr>\n",
       "      <th>0</th>\n",
       "      <td>Furniture</td>\n",
       "      <td>3.79</td>\n",
       "    </tr>\n",
       "    <tr>\n",
       "      <th>1</th>\n",
       "      <td>Office Supplies</td>\n",
       "      <td>3.80</td>\n",
       "    </tr>\n",
       "    <tr>\n",
       "      <th>2</th>\n",
       "      <td>Technology</td>\n",
       "      <td>3.76</td>\n",
       "    </tr>\n",
       "  </tbody>\n",
       "</table>\n",
       "</div>"
      ],
      "text/plain": [
       "          Category Avg_quantity\n",
       "0        Furniture         3.79\n",
       "1  Office Supplies         3.80\n",
       "2       Technology         3.76"
      ]
     },
     "execution_count": 41,
     "metadata": {},
     "output_type": "execute_result"
    }
   ],
   "source": [
    "query6=pd.DataFrame(myresult,columns=[\"Category\",\"Avg_quantity\"])\n",
    "query6"
   ]
  },
  {
   "cell_type": "code",
   "execution_count": 63,
   "id": "60bbb746",
   "metadata": {},
   "outputs": [
    {
     "data": {
      "text/plain": [
       "Text(0.5, 1.0, 'Average Categorical Quantity')"
      ]
     },
     "execution_count": 63,
     "metadata": {},
     "output_type": "execute_result"
    },
    {
     "data": {
      "image/png": "[encoded data removed]",
      "text/plain": [
       "<Figure size 640x480 with 1 Axes>"
      ]
     },
     "metadata": {},
     "output_type": "display_data"
    }
   ],
   "source": [
    "plt.pie(query6['Avg_quantity'],labels = query6['Category'], explode=None, colors=None, autopct=\"%0.2f%%\", shadow=False)\n",
    "plt.title('Average Categorical Quantity')"
   ]
  },
  {
   "cell_type": "markdown",
   "id": "a39591a3",
   "metadata": {},
   "source": [
    "#### INSIGHTS :\n",
    "Average Quantity is approximately equal in each category which is 33%. This consistency suggest stable purchasing patterns across diverse product types. Understanding the purchase of quantity helps to recognize the performance of the categories and to forecast inventory, production and marketing strategies."
   ]
  },
  {
   "cell_type": "code",
   "execution_count": 43,
   "id": "4c53637a",
   "metadata": {},
   "outputs": [
    {
     "name": "stdout",
     "output_type": "stream",
     "text": [
      "('Bookcases', Decimal('3.81'))\n",
      "('Chairs', Decimal('3.82'))\n",
      "('Labels', Decimal('3.85'))\n",
      "('Tables', Decimal('3.89'))\n",
      "('Storage', Decimal('3.73'))\n",
      "('Furnishings', Decimal('3.72'))\n",
      "('Art', Decimal('3.77'))\n",
      "('Phones', Decimal('3.70'))\n",
      "('Binders', Decimal('3.92'))\n",
      "('Appliances', Decimal('3.71'))\n",
      "('Paper', Decimal('3.78'))\n",
      "('Accessories', Decimal('3.84'))\n",
      "('Envelopes', Decimal('3.57'))\n",
      "('Fasteners', Decimal('4.21'))\n",
      "('Supplies', Decimal('3.41'))\n",
      "('Machines', Decimal('3.83'))\n",
      "('Copiers', Decimal('3.44'))\n"
     ]
    }
   ],
   "source": [
    "query6_1=\"Select `sub-category`,round(avg(quantity),2) from orders group by `sub-category`\"\n",
    "mycursor.execute(query6_1)\n",
    "myresult = mycursor.fetchall()\n",
    "for i in myresult:\n",
    "    print(i)"
   ]
  },
  {
   "cell_type": "code",
   "execution_count": 44,
   "id": "0a2c2f83",
   "metadata": {},
   "outputs": [
    {
     "data": {
      "text/html": [
       "<div>\n",
       "<style scoped>\n",
       "    .dataframe tbody tr th:only-of-type {\n",
       "        vertical-align: middle;\n",
       "    }\n",
       "\n",
       "    .dataframe tbody tr th {\n",
       "        vertical-align: top;\n",
       "    }\n",
       "\n",
       "    .dataframe thead th {\n",
       "        text-align: right;\n",
       "    }\n",
       "</style>\n",
       "<table border=\"1\" class=\"dataframe\">\n",
       "  <thead>\n",
       "    <tr style=\"text-align: right;\">\n",
       "      <th></th>\n",
       "      <th>Sub-Category</th>\n",
       "      <th>Avg_quantity</th>\n",
       "    </tr>\n",
       "  </thead>\n",
       "  <tbody>\n",
       "    <tr>\n",
       "      <th>0</th>\n",
       "      <td>Bookcases</td>\n",
       "      <td>3.81</td>\n",
       "    </tr>\n",
       "    <tr>\n",
       "      <th>1</th>\n",
       "      <td>Chairs</td>\n",
       "      <td>3.82</td>\n",
       "    </tr>\n",
       "    <tr>\n",
       "      <th>2</th>\n",
       "      <td>Labels</td>\n",
       "      <td>3.85</td>\n",
       "    </tr>\n",
       "    <tr>\n",
       "      <th>3</th>\n",
       "      <td>Tables</td>\n",
       "      <td>3.89</td>\n",
       "    </tr>\n",
       "    <tr>\n",
       "      <th>4</th>\n",
       "      <td>Storage</td>\n",
       "      <td>3.73</td>\n",
       "    </tr>\n",
       "    <tr>\n",
       "      <th>5</th>\n",
       "      <td>Furnishings</td>\n",
       "      <td>3.72</td>\n",
       "    </tr>\n",
       "    <tr>\n",
       "      <th>6</th>\n",
       "      <td>Art</td>\n",
       "      <td>3.77</td>\n",
       "    </tr>\n",
       "    <tr>\n",
       "      <th>7</th>\n",
       "      <td>Phones</td>\n",
       "      <td>3.70</td>\n",
       "    </tr>\n",
       "    <tr>\n",
       "      <th>8</th>\n",
       "      <td>Binders</td>\n",
       "      <td>3.92</td>\n",
       "    </tr>\n",
       "    <tr>\n",
       "      <th>9</th>\n",
       "      <td>Appliances</td>\n",
       "      <td>3.71</td>\n",
       "    </tr>\n",
       "    <tr>\n",
       "      <th>10</th>\n",
       "      <td>Paper</td>\n",
       "      <td>3.78</td>\n",
       "    </tr>\n",
       "    <tr>\n",
       "      <th>11</th>\n",
       "      <td>Accessories</td>\n",
       "      <td>3.84</td>\n",
       "    </tr>\n",
       "    <tr>\n",
       "      <th>12</th>\n",
       "      <td>Envelopes</td>\n",
       "      <td>3.57</td>\n",
       "    </tr>\n",
       "    <tr>\n",
       "      <th>13</th>\n",
       "      <td>Fasteners</td>\n",
       "      <td>4.21</td>\n",
       "    </tr>\n",
       "    <tr>\n",
       "      <th>14</th>\n",
       "      <td>Supplies</td>\n",
       "      <td>3.41</td>\n",
       "    </tr>\n",
       "    <tr>\n",
       "      <th>15</th>\n",
       "      <td>Machines</td>\n",
       "      <td>3.83</td>\n",
       "    </tr>\n",
       "    <tr>\n",
       "      <th>16</th>\n",
       "      <td>Copiers</td>\n",
       "      <td>3.44</td>\n",
       "    </tr>\n",
       "  </tbody>\n",
       "</table>\n",
       "</div>"
      ],
      "text/plain": [
       "   Sub-Category Avg_quantity\n",
       "0     Bookcases         3.81\n",
       "1        Chairs         3.82\n",
       "2        Labels         3.85\n",
       "3        Tables         3.89\n",
       "4       Storage         3.73\n",
       "5   Furnishings         3.72\n",
       "6           Art         3.77\n",
       "7        Phones         3.70\n",
       "8       Binders         3.92\n",
       "9    Appliances         3.71\n",
       "10        Paper         3.78\n",
       "11  Accessories         3.84\n",
       "12    Envelopes         3.57\n",
       "13    Fasteners         4.21\n",
       "14     Supplies         3.41\n",
       "15     Machines         3.83\n",
       "16      Copiers         3.44"
      ]
     },
     "execution_count": 44,
     "metadata": {},
     "output_type": "execute_result"
    }
   ],
   "source": [
    "query6_1=pd.DataFrame(myresult,columns=['Sub-Category','Avg_quantity'])\n",
    "query6_1"
   ]
  },
  {
   "cell_type": "code",
   "execution_count": 64,
   "id": "79bfc0e4",
   "metadata": {},
   "outputs": [
    {
     "data": {
      "text/plain": [
       "Text(0.5, 1.0, 'Average Sub-Categorical Quantity')"
      ]
     },
     "execution_count": 64,
     "metadata": {},
     "output_type": "execute_result"
    },
    {
     "data": {
      "image/png": "[encoded data removed]",
      "text/plain": [
       "<Figure size 640x480 with 1 Axes>"
      ]
     },
     "metadata": {},
     "output_type": "display_data"
    }
   ],
   "source": [
    "sns.barplot(x=query6_1['Sub-Category'],y=query6_1['Avg_quantity'],data=query6_1,errorbar=('ci',0))\n",
    "plt.xticks(rotation=270)\n",
    "plt.title('Average Sub-Categorical Quantity')"
   ]
  },
  {
   "cell_type": "markdown",
   "id": "f8a68d9c",
   "metadata": {},
   "source": [
    "#### INSIGHTS :\n",
    "This bar graph represents the average quantity of products sold for various sub-categories. Fasteners exhibit the highest average quantity sold which had lowest sales, followed closely by Binders and Tables. Supplies and Envelopes have the lowest average quantity sold. This knowledge can help businesses identify opportunities for upselling or cross-selling related products to maximize sales and customer satisfaction. Additionally, it can inform inventory management strategies to ensure sufficient stock levels for high-demand items while minimizing excess inventory for lower-demand products."
   ]
  },
  {
   "cell_type": "markdown",
   "id": "e8c78428",
   "metadata": {},
   "source": [
    "###  7. Top 5 most sold Products."
   ]
  },
  {
   "cell_type": "code",
   "execution_count": 47,
   "id": "967b7420",
   "metadata": {},
   "outputs": [
    {
     "name": "stdout",
     "output_type": "stream",
     "text": [
      "('Staple envelope', 48, 'Office Supplies')\n",
      "('Staples', 46, 'Office Supplies')\n",
      "('Easy-staple paper', 46, 'Office Supplies')\n",
      "('Avery Non-Stick Binders', 20, 'Office Supplies')\n",
      "('Staples in misc. colors', 19, 'Office Supplies')\n"
     ]
    }
   ],
   "source": [
    "query7 = \"select max(`Product Name`),count(`Product Name`),category from Orders group by `Product Name`,category  order by count(`Product Name`) desc limit 5 \"\n",
    "mycursor.execute(query7)\n",
    "myresult = mycursor.fetchall()\n",
    "for i in myresult:\n",
    "    print(i)"
   ]
  },
  {
   "cell_type": "code",
   "execution_count": 48,
   "id": "fcde3b7f",
   "metadata": {},
   "outputs": [
    {
     "data": {
      "text/html": [
       "<div>\n",
       "<style scoped>\n",
       "    .dataframe tbody tr th:only-of-type {\n",
       "        vertical-align: middle;\n",
       "    }\n",
       "\n",
       "    .dataframe tbody tr th {\n",
       "        vertical-align: top;\n",
       "    }\n",
       "\n",
       "    .dataframe thead th {\n",
       "        text-align: right;\n",
       "    }\n",
       "</style>\n",
       "<table border=\"1\" class=\"dataframe\">\n",
       "  <thead>\n",
       "    <tr style=\"text-align: right;\">\n",
       "      <th></th>\n",
       "      <th>Product Name</th>\n",
       "      <th>No of products</th>\n",
       "      <th>Category</th>\n",
       "    </tr>\n",
       "  </thead>\n",
       "  <tbody>\n",
       "    <tr>\n",
       "      <th>0</th>\n",
       "      <td>Staple envelope</td>\n",
       "      <td>48</td>\n",
       "      <td>Office Supplies</td>\n",
       "    </tr>\n",
       "    <tr>\n",
       "      <th>1</th>\n",
       "      <td>Staples</td>\n",
       "      <td>46</td>\n",
       "      <td>Office Supplies</td>\n",
       "    </tr>\n",
       "    <tr>\n",
       "      <th>2</th>\n",
       "      <td>Easy-staple paper</td>\n",
       "      <td>46</td>\n",
       "      <td>Office Supplies</td>\n",
       "    </tr>\n",
       "    <tr>\n",
       "      <th>3</th>\n",
       "      <td>Avery Non-Stick Binders</td>\n",
       "      <td>20</td>\n",
       "      <td>Office Supplies</td>\n",
       "    </tr>\n",
       "    <tr>\n",
       "      <th>4</th>\n",
       "      <td>Staples in misc. colors</td>\n",
       "      <td>19</td>\n",
       "      <td>Office Supplies</td>\n",
       "    </tr>\n",
       "  </tbody>\n",
       "</table>\n",
       "</div>"
      ],
      "text/plain": [
       "              Product Name  No of products         Category\n",
       "0          Staple envelope              48  Office Supplies\n",
       "1                  Staples              46  Office Supplies\n",
       "2        Easy-staple paper              46  Office Supplies\n",
       "3  Avery Non-Stick Binders              20  Office Supplies\n",
       "4  Staples in misc. colors              19  Office Supplies"
      ]
     },
     "execution_count": 48,
     "metadata": {},
     "output_type": "execute_result"
    }
   ],
   "source": [
    "query7 = pd.DataFrame(myresult,columns=[\"Product Name\", \"No of products\",\"Category\"])\n",
    "query7"
   ]
  },
  {
   "cell_type": "code",
   "execution_count": 122,
   "id": "978ae3f8",
   "metadata": {},
   "outputs": [
    {
     "data": {
      "text/plain": [
       "Text(0.5, 1.0, 'Top 5 Sold Products')"
      ]
     },
     "execution_count": 122,
     "metadata": {},
     "output_type": "execute_result"
    },
    {
     "data": {
      "image/png": "[encoded data removed]",
      "text/plain": [
       "<Figure size 640x480 with 1 Axes>"
      ]
     },
     "metadata": {},
     "output_type": "display_data"
    }
   ],
   "source": [
    "plt.pie(query7['No of products'],labels = query7['Product Name'], explode=None, colors=None, autopct=\"%0.2f%%\", shadow=False)\n",
    "plt.title('Top 5 Sold Products')"
   ]
  },
  {
   "cell_type": "markdown",
   "id": "8b8b68e1",
   "metadata": {},
   "source": [
    "#### INSIGHTS :\n",
    "The pie chart above displays the top 5 best-selling products, all of which belong to the Office Supplies category. Analyzing the top-selling products can provide valuable insights into customer preferences, market trends, and product performance, guiding businesses in optimizing inventory management, pricing strategies, and marketing efforts to capitalize on these popular items and maximize overall sales and profitability."
   ]
  },
  {
   "cell_type": "markdown",
   "id": "396cea54",
   "metadata": {},
   "source": [
    "### 8. Region wise Sales and Profits"
   ]
  },
  {
   "cell_type": "code",
   "execution_count": 53,
   "id": "bcfa5a0b",
   "metadata": {},
   "outputs": [
    {
     "name": "stdout",
     "output_type": "stream",
     "text": [
      "('South', 391721.91)\n",
      "('West', 725457.82)\n",
      "('Central', 501239.89)\n",
      "('East', 678781.24)\n"
     ]
    }
   ],
   "source": [
    "query8=\"select region, round(sum(sales),2) from orders group by region\"\n",
    "mycursor.execute(query8)\n",
    "myresult=mycursor.fetchall()\n",
    "for x in myresult:\n",
    "    print(x)"
   ]
  },
  {
   "cell_type": "code",
   "execution_count": 55,
   "id": "ba2c8f42",
   "metadata": {},
   "outputs": [
    {
     "data": {
      "text/html": [
       "<div>\n",
       "<style scoped>\n",
       "    .dataframe tbody tr th:only-of-type {\n",
       "        vertical-align: middle;\n",
       "    }\n",
       "\n",
       "    .dataframe tbody tr th {\n",
       "        vertical-align: top;\n",
       "    }\n",
       "\n",
       "    .dataframe thead th {\n",
       "        text-align: right;\n",
       "    }\n",
       "</style>\n",
       "<table border=\"1\" class=\"dataframe\">\n",
       "  <thead>\n",
       "    <tr style=\"text-align: right;\">\n",
       "      <th></th>\n",
       "      <th>Region</th>\n",
       "      <th>Sales</th>\n",
       "    </tr>\n",
       "  </thead>\n",
       "  <tbody>\n",
       "    <tr>\n",
       "      <th>0</th>\n",
       "      <td>South</td>\n",
       "      <td>391721.91</td>\n",
       "    </tr>\n",
       "    <tr>\n",
       "      <th>1</th>\n",
       "      <td>West</td>\n",
       "      <td>725457.82</td>\n",
       "    </tr>\n",
       "    <tr>\n",
       "      <th>2</th>\n",
       "      <td>Central</td>\n",
       "      <td>501239.89</td>\n",
       "    </tr>\n",
       "    <tr>\n",
       "      <th>3</th>\n",
       "      <td>East</td>\n",
       "      <td>678781.24</td>\n",
       "    </tr>\n",
       "  </tbody>\n",
       "</table>\n",
       "</div>"
      ],
      "text/plain": [
       "    Region      Sales\n",
       "0    South  391721.91\n",
       "1     West  725457.82\n",
       "2  Central  501239.89\n",
       "3     East  678781.24"
      ]
     },
     "execution_count": 55,
     "metadata": {},
     "output_type": "execute_result"
    }
   ],
   "source": [
    "query8=pd.DataFrame(myresult,columns=['Region','Sales'])\n",
    "query8"
   ]
  },
  {
   "cell_type": "code",
   "execution_count": 56,
   "id": "c5184bd1",
   "metadata": {},
   "outputs": [
    {
     "data": {
      "text/plain": [
       "<Axes: xlabel='Region', ylabel='Sales'>"
      ]
     },
     "execution_count": 56,
     "metadata": {},
     "output_type": "execute_result"
    },
    {
     "data": {
      "image/png": "[encoded data removed]",
      "text/plain": [
       "<Figure size 640x480 with 1 Axes>"
      ]
     },
     "metadata": {},
     "output_type": "display_data"
    }
   ],
   "source": [
    "sns.barplot(x=query8[\"Region\"],y=query8['Sales'],data=query8,errorbar=('ci',0))"
   ]
  },
  {
   "cell_type": "markdown",
   "id": "6c81bf2e",
   "metadata": {},
   "source": [
    "#### INSIGHTS :\n",
    "The sales data highlights regional disparities, with the West region leading in sales figures, closely followed by the East. These regions likely represent key markets for the business, warranting focused marketing and sales efforts. While the Central and South regions show lower sales, they still contribute to overall revenue, suggesting potential for targeted growth initiatives to maximize market share in these areas."
   ]
  },
  {
   "cell_type": "code",
   "execution_count": 57,
   "id": "6ff5ab38",
   "metadata": {},
   "outputs": [
    {
     "name": "stdout",
     "output_type": "stream",
     "text": [
      "('South', 46749.43)\n",
      "('West', 108418.45)\n",
      "('Central', 39706.36)\n",
      "('East', 91522.78)\n"
     ]
    }
   ],
   "source": [
    "query8_1=\"select region, round(sum(profit),2) from orders group by region\"\n",
    "mycursor.execute(query8_1)\n",
    "myresult=mycursor.fetchall()\n",
    "for x in myresult:\n",
    "    print(x)"
   ]
  },
  {
   "cell_type": "code",
   "execution_count": 59,
   "id": "6a019085",
   "metadata": {},
   "outputs": [
    {
     "data": {
      "text/html": [
       "<div>\n",
       "<style scoped>\n",
       "    .dataframe tbody tr th:only-of-type {\n",
       "        vertical-align: middle;\n",
       "    }\n",
       "\n",
       "    .dataframe tbody tr th {\n",
       "        vertical-align: top;\n",
       "    }\n",
       "\n",
       "    .dataframe thead th {\n",
       "        text-align: right;\n",
       "    }\n",
       "</style>\n",
       "<table border=\"1\" class=\"dataframe\">\n",
       "  <thead>\n",
       "    <tr style=\"text-align: right;\">\n",
       "      <th></th>\n",
       "      <th>Region</th>\n",
       "      <th>Profits</th>\n",
       "    </tr>\n",
       "  </thead>\n",
       "  <tbody>\n",
       "    <tr>\n",
       "      <th>0</th>\n",
       "      <td>South</td>\n",
       "      <td>46749.43</td>\n",
       "    </tr>\n",
       "    <tr>\n",
       "      <th>1</th>\n",
       "      <td>West</td>\n",
       "      <td>108418.45</td>\n",
       "    </tr>\n",
       "    <tr>\n",
       "      <th>2</th>\n",
       "      <td>Central</td>\n",
       "      <td>39706.36</td>\n",
       "    </tr>\n",
       "    <tr>\n",
       "      <th>3</th>\n",
       "      <td>East</td>\n",
       "      <td>91522.78</td>\n",
       "    </tr>\n",
       "  </tbody>\n",
       "</table>\n",
       "</div>"
      ],
      "text/plain": [
       "    Region    Profits\n",
       "0    South   46749.43\n",
       "1     West  108418.45\n",
       "2  Central   39706.36\n",
       "3     East   91522.78"
      ]
     },
     "execution_count": 59,
     "metadata": {},
     "output_type": "execute_result"
    }
   ],
   "source": [
    "query8_1=pd.DataFrame(myresult,columns=['Region','Profits'])\n",
    "query8_1"
   ]
  },
  {
   "cell_type": "code",
   "execution_count": 62,
   "id": "9517af48",
   "metadata": {},
   "outputs": [
    {
     "data": {
      "text/plain": [
       "<Axes: xlabel='Region', ylabel='Profits'>"
      ]
     },
     "execution_count": 62,
     "metadata": {},
     "output_type": "execute_result"
    },
    {
     "data": {
      "image/png": "[encoded data removed]",
      "text/plain": [
       "<Figure size 640x480 with 1 Axes>"
      ]
     },
     "metadata": {},
     "output_type": "display_data"
    }
   ],
   "source": [
    "sns.barplot(x=query8_1[\"Region\"],y=query8_1['Profits'],data=query8_1,errorbar=('ci',0))"
   ]
  },
  {
   "cell_type": "markdown",
   "id": "26438bb2",
   "metadata": {},
   "source": [
    "#### INSIGHTS :\n",
    "The West region leads in profitability, followed by the East, Central, and South regions. In the above bar graph it is noticeable that South region has higher profit compared to Central even though previously the sales of Central region were higher than that of South. It could be because of price variations through different regions. By understnding regional profits will assist business in optimizing operational efficiences as well as refining price strategies."
   ]
  },
  {
   "cell_type": "markdown",
   "id": "df745957",
   "metadata": {},
   "source": [
    "### 9. Number of Customers in Each Region"
   ]
  },
  {
   "cell_type": "code",
   "execution_count": 65,
   "id": "1868a478",
   "metadata": {},
   "outputs": [
    {
     "name": "stdout",
     "output_type": "stream",
     "text": [
      "('South', 1620)\n",
      "('West', 3203)\n",
      "('Central', 2323)\n",
      "('East', 2848)\n"
     ]
    }
   ],
   "source": [
    "query9=\"SELECT Region, count(region) from orders group by region\"\n",
    "mycursor.execute(query9)\n",
    "myresult=mycursor.fetchall()\n",
    "for x in myresult:\n",
    "    print(x)"
   ]
  },
  {
   "cell_type": "code",
   "execution_count": 66,
   "id": "3e5d86bf",
   "metadata": {},
   "outputs": [
    {
     "data": {
      "text/html": [
       "<div>\n",
       "<style scoped>\n",
       "    .dataframe tbody tr th:only-of-type {\n",
       "        vertical-align: middle;\n",
       "    }\n",
       "\n",
       "    .dataframe tbody tr th {\n",
       "        vertical-align: top;\n",
       "    }\n",
       "\n",
       "    .dataframe thead th {\n",
       "        text-align: right;\n",
       "    }\n",
       "</style>\n",
       "<table border=\"1\" class=\"dataframe\">\n",
       "  <thead>\n",
       "    <tr style=\"text-align: right;\">\n",
       "      <th></th>\n",
       "      <th>Region</th>\n",
       "      <th>No. of customers</th>\n",
       "    </tr>\n",
       "  </thead>\n",
       "  <tbody>\n",
       "    <tr>\n",
       "      <th>0</th>\n",
       "      <td>South</td>\n",
       "      <td>1620</td>\n",
       "    </tr>\n",
       "    <tr>\n",
       "      <th>1</th>\n",
       "      <td>West</td>\n",
       "      <td>3203</td>\n",
       "    </tr>\n",
       "    <tr>\n",
       "      <th>2</th>\n",
       "      <td>Central</td>\n",
       "      <td>2323</td>\n",
       "    </tr>\n",
       "    <tr>\n",
       "      <th>3</th>\n",
       "      <td>East</td>\n",
       "      <td>2848</td>\n",
       "    </tr>\n",
       "  </tbody>\n",
       "</table>\n",
       "</div>"
      ],
      "text/plain": [
       "    Region  No. of customers\n",
       "0    South              1620\n",
       "1     West              3203\n",
       "2  Central              2323\n",
       "3     East              2848"
      ]
     },
     "execution_count": 66,
     "metadata": {},
     "output_type": "execute_result"
    }
   ],
   "source": [
    "query9=pd.DataFrame(myresult,columns=['Region','No. of customers'])\n",
    "query9"
   ]
  },
  {
   "cell_type": "code",
   "execution_count": 67,
   "id": "eb7bc69b",
   "metadata": {},
   "outputs": [
    {
     "data": {
      "text/plain": [
       "<Axes: xlabel='Region', ylabel='No. of customers'>"
      ]
     },
     "execution_count": 67,
     "metadata": {},
     "output_type": "execute_result"
    },
    {
     "data": {
      "image/png": "[encoded data removed]",
      "text/plain": [
       "<Figure size 640x480 with 1 Axes>"
      ]
     },
     "metadata": {},
     "output_type": "display_data"
    }
   ],
   "source": [
    "sns.barplot(x=query9[\"Region\"],y=query9['No. of customers'],data=query9,errorbar=('ci',0))"
   ]
  },
  {
   "cell_type": "markdown",
   "id": "081616ed",
   "metadata": {},
   "source": [
    "#### INSIGHTS :\n",
    "The West boasts the highest customer base, followed by the East with a strong customer base. Conversely, the Central region, despite a moderate customer count, struggles to translate it into profits. In contrast, the South region, with the fewest customers, faces challenges in achieving significant sales. These insights emphasize the need for tailored strategies to optimize customer service and resource allocation across regions."
   ]
  },
  {
   "cell_type": "markdown",
   "id": "3ff965ba",
   "metadata": {},
   "source": [
    "### 10. Average profit margin % in each region"
   ]
  },
  {
   "cell_type": "code",
   "execution_count": 68,
   "id": "1d3d239b",
   "metadata": {},
   "outputs": [
    {
     "name": "stdout",
     "output_type": "stream",
     "text": [
      "('South', 16.35)\n",
      "('West', 21.95)\n",
      "('Central', -10.41)\n",
      "('East', 16.72)\n"
     ]
    }
   ],
   "source": [
    "query10=\"SELECT Region, round(AVG((Profit / Sales) * 100),2) from orders group by region\"\n",
    "mycursor.execute(query10)\n",
    "myresult=mycursor.fetchall()\n",
    "for x in myresult:\n",
    "    print(x)"
   ]
  },
  {
   "cell_type": "code",
   "execution_count": 69,
   "id": "7c197617",
   "metadata": {},
   "outputs": [
    {
     "data": {
      "text/html": [
       "<div>\n",
       "<style scoped>\n",
       "    .dataframe tbody tr th:only-of-type {\n",
       "        vertical-align: middle;\n",
       "    }\n",
       "\n",
       "    .dataframe tbody tr th {\n",
       "        vertical-align: top;\n",
       "    }\n",
       "\n",
       "    .dataframe thead th {\n",
       "        text-align: right;\n",
       "    }\n",
       "</style>\n",
       "<table border=\"1\" class=\"dataframe\">\n",
       "  <thead>\n",
       "    <tr style=\"text-align: right;\">\n",
       "      <th></th>\n",
       "      <th>Region</th>\n",
       "      <th>Avg_profit%</th>\n",
       "    </tr>\n",
       "  </thead>\n",
       "  <tbody>\n",
       "    <tr>\n",
       "      <th>0</th>\n",
       "      <td>South</td>\n",
       "      <td>16.35</td>\n",
       "    </tr>\n",
       "    <tr>\n",
       "      <th>1</th>\n",
       "      <td>West</td>\n",
       "      <td>21.95</td>\n",
       "    </tr>\n",
       "    <tr>\n",
       "      <th>2</th>\n",
       "      <td>Central</td>\n",
       "      <td>-10.41</td>\n",
       "    </tr>\n",
       "    <tr>\n",
       "      <th>3</th>\n",
       "      <td>East</td>\n",
       "      <td>16.72</td>\n",
       "    </tr>\n",
       "  </tbody>\n",
       "</table>\n",
       "</div>"
      ],
      "text/plain": [
       "    Region  Avg_profit%\n",
       "0    South        16.35\n",
       "1     West        21.95\n",
       "2  Central       -10.41\n",
       "3     East        16.72"
      ]
     },
     "execution_count": 69,
     "metadata": {},
     "output_type": "execute_result"
    }
   ],
   "source": [
    "query10=pd.DataFrame(myresult,columns=['Region','Avg_profit%'])\n",
    "query10"
   ]
  },
  {
   "cell_type": "code",
   "execution_count": 72,
   "id": "5839d132",
   "metadata": {},
   "outputs": [
    {
     "data": {
      "text/plain": [
       "Text(0.5, 1.0, 'Average profit margin of each region')"
      ]
     },
     "execution_count": 72,
     "metadata": {},
     "output_type": "execute_result"
    },
    {
     "data": {
      "image/png": "[encoded data removed]",
      "text/plain": [
       "<Figure size 640x480 with 1 Axes>"
      ]
     },
     "metadata": {},
     "output_type": "display_data"
    }
   ],
   "source": [
    "sns.barplot(x=query10['Region'],y=query10['Avg_profit%'],data=query10,errorbar=('ci',0))\n",
    "plt.title('Average profit margin of each region')"
   ]
  },
  {
   "cell_type": "markdown",
   "id": "08f3a655",
   "metadata": {},
   "source": [
    "#### INSIGHTS :\n",
    "The West region leads with the highest average profit percentage, followed by the East and South regions. Conversely, the Central region shows a negative average profit percentage (average loss %), suggesting potential challenges in cost management or pricing strategies. This analysis not only aids in market understanding but also informs about strategic planning and risk management efforts."
   ]
  },
  {
   "cell_type": "markdown",
   "id": "40eb8262",
   "metadata": {},
   "source": [
    "### 11. See the distribution of sales in each state."
   ]
  },
  {
   "cell_type": "code",
   "execution_count": 124,
   "id": "500dacab",
   "metadata": {
    "collapsed": true
   },
   "outputs": [
    {
     "name": "stdout",
     "output_type": "stream",
     "text": [
      "('California', 2001, 457687.63)\n",
      "('New York', 1128, 310876.27)\n",
      "('Texas', 985, 170188.05)\n",
      "('Washington', 506, 138641.27)\n",
      "('Pennsylvania', 587, 116511.91)\n",
      "('Florida', 383, 89473.71)\n",
      "('Illinois', 492, 80166.1)\n",
      "('Ohio', 469, 78258.14)\n",
      "('Michigan', 255, 76269.61)\n",
      "('Virginia', 224, 70636.72)\n",
      "('North Carolina', 249, 55603.16)\n",
      "('Indiana', 149, 53555.36)\n",
      "('Georgia', 184, 49095.84)\n",
      "('Kentucky', 139, 36591.75)\n",
      "('New Jersey', 130, 35764.31)\n",
      "('Arizona', 224, 35282.0)\n",
      "('Wisconsin', 110, 32114.61)\n",
      "('Colorado', 182, 32108.12)\n",
      "('Tennessee', 183, 30661.87)\n",
      "('Minnesota', 89, 29863.15)\n",
      "('Massachusetts', 135, 28634.43)\n",
      "('Delaware', 96, 27451.07)\n",
      "('Maryland', 105, 23705.52)\n",
      "('Rhode Island', 56, 22627.96)\n",
      "('Missouri', 66, 22205.15)\n",
      "('Oklahoma', 66, 19683.39)\n",
      "('Alabama', 61, 19510.64)\n",
      "('Oregon', 124, 17431.15)\n",
      "('Nevada', 39, 16729.1)\n",
      "('Connecticut', 82, 13384.36)\n",
      "('Arkansas', 60, 11678.13)\n",
      "('Utah', 53, 11220.06)\n",
      "('Mississippi', 53, 10771.34)\n",
      "('Louisiana', 42, 9217.03)\n",
      "('Vermont', 11, 8929.37)\n",
      "('South Carolina', 42, 8481.71)\n",
      "('Nebraska', 38, 7464.93)\n",
      "('New Hampshire', 27, 7292.52)\n",
      "('Montana', 15, 5589.35)\n",
      "('New Mexico', 37, 4783.52)\n",
      "('Iowa', 30, 4579.76)\n",
      "('Idaho', 21, 4382.49)\n",
      "('Kansas', 24, 2914.31)\n",
      "('District of Columbia', 10, 2865.02)\n",
      "('Wyoming', 1, 1603.14)\n",
      "('South Dakota', 12, 1315.56)\n",
      "('Maine', 8, 1270.53)\n",
      "('West Virginia', 4, 1209.82)\n",
      "('North Dakota', 7, 919.91)\n"
     ]
    }
   ],
   "source": [
    "query11 = \"SELECT state, COUNT(`order date`) AS num_transactions,  round(SUM(sales),2) AS total_sales FROM orders GROUP BY state ORDER BY total_sales DESC\"\n",
    "mycursor.execute(query11)\n",
    "myresult=mycursor.fetchall()\n",
    "for i in myresult:\n",
    "    print(i)"
   ]
  },
  {
   "cell_type": "code",
   "execution_count": 125,
   "id": "7c6def8d",
   "metadata": {
    "scrolled": true
   },
   "outputs": [
    {
     "data": {
      "text/html": [
       "<div>\n",
       "<style scoped>\n",
       "    .dataframe tbody tr th:only-of-type {\n",
       "        vertical-align: middle;\n",
       "    }\n",
       "\n",
       "    .dataframe tbody tr th {\n",
       "        vertical-align: top;\n",
       "    }\n",
       "\n",
       "    .dataframe thead th {\n",
       "        text-align: right;\n",
       "    }\n",
       "</style>\n",
       "<table border=\"1\" class=\"dataframe\">\n",
       "  <thead>\n",
       "    <tr style=\"text-align: right;\">\n",
       "      <th></th>\n",
       "      <th>State</th>\n",
       "      <th>Num_transactions</th>\n",
       "      <th>Sales</th>\n",
       "    </tr>\n",
       "  </thead>\n",
       "  <tbody>\n",
       "    <tr>\n",
       "      <th>0</th>\n",
       "      <td>California</td>\n",
       "      <td>2001</td>\n",
       "      <td>457687.63</td>\n",
       "    </tr>\n",
       "    <tr>\n",
       "      <th>1</th>\n",
       "      <td>New York</td>\n",
       "      <td>1128</td>\n",
       "      <td>310876.27</td>\n",
       "    </tr>\n",
       "    <tr>\n",
       "      <th>2</th>\n",
       "      <td>Texas</td>\n",
       "      <td>985</td>\n",
       "      <td>170188.05</td>\n",
       "    </tr>\n",
       "    <tr>\n",
       "      <th>3</th>\n",
       "      <td>Washington</td>\n",
       "      <td>506</td>\n",
       "      <td>138641.27</td>\n",
       "    </tr>\n",
       "    <tr>\n",
       "      <th>4</th>\n",
       "      <td>Pennsylvania</td>\n",
       "      <td>587</td>\n",
       "      <td>116511.91</td>\n",
       "    </tr>\n",
       "    <tr>\n",
       "      <th>5</th>\n",
       "      <td>Florida</td>\n",
       "      <td>383</td>\n",
       "      <td>89473.71</td>\n",
       "    </tr>\n",
       "    <tr>\n",
       "      <th>6</th>\n",
       "      <td>Illinois</td>\n",
       "      <td>492</td>\n",
       "      <td>80166.10</td>\n",
       "    </tr>\n",
       "    <tr>\n",
       "      <th>7</th>\n",
       "      <td>Ohio</td>\n",
       "      <td>469</td>\n",
       "      <td>78258.14</td>\n",
       "    </tr>\n",
       "    <tr>\n",
       "      <th>8</th>\n",
       "      <td>Michigan</td>\n",
       "      <td>255</td>\n",
       "      <td>76269.61</td>\n",
       "    </tr>\n",
       "    <tr>\n",
       "      <th>9</th>\n",
       "      <td>Virginia</td>\n",
       "      <td>224</td>\n",
       "      <td>70636.72</td>\n",
       "    </tr>\n",
       "    <tr>\n",
       "      <th>10</th>\n",
       "      <td>North Carolina</td>\n",
       "      <td>249</td>\n",
       "      <td>55603.16</td>\n",
       "    </tr>\n",
       "    <tr>\n",
       "      <th>11</th>\n",
       "      <td>Indiana</td>\n",
       "      <td>149</td>\n",
       "      <td>53555.36</td>\n",
       "    </tr>\n",
       "    <tr>\n",
       "      <th>12</th>\n",
       "      <td>Georgia</td>\n",
       "      <td>184</td>\n",
       "      <td>49095.84</td>\n",
       "    </tr>\n",
       "    <tr>\n",
       "      <th>13</th>\n",
       "      <td>Kentucky</td>\n",
       "      <td>139</td>\n",
       "      <td>36591.75</td>\n",
       "    </tr>\n",
       "    <tr>\n",
       "      <th>14</th>\n",
       "      <td>New Jersey</td>\n",
       "      <td>130</td>\n",
       "      <td>35764.31</td>\n",
       "    </tr>\n",
       "    <tr>\n",
       "      <th>15</th>\n",
       "      <td>Arizona</td>\n",
       "      <td>224</td>\n",
       "      <td>35282.00</td>\n",
       "    </tr>\n",
       "    <tr>\n",
       "      <th>16</th>\n",
       "      <td>Wisconsin</td>\n",
       "      <td>110</td>\n",
       "      <td>32114.61</td>\n",
       "    </tr>\n",
       "    <tr>\n",
       "      <th>17</th>\n",
       "      <td>Colorado</td>\n",
       "      <td>182</td>\n",
       "      <td>32108.12</td>\n",
       "    </tr>\n",
       "    <tr>\n",
       "      <th>18</th>\n",
       "      <td>Tennessee</td>\n",
       "      <td>183</td>\n",
       "      <td>30661.87</td>\n",
       "    </tr>\n",
       "    <tr>\n",
       "      <th>19</th>\n",
       "      <td>Minnesota</td>\n",
       "      <td>89</td>\n",
       "      <td>29863.15</td>\n",
       "    </tr>\n",
       "    <tr>\n",
       "      <th>20</th>\n",
       "      <td>Massachusetts</td>\n",
       "      <td>135</td>\n",
       "      <td>28634.43</td>\n",
       "    </tr>\n",
       "    <tr>\n",
       "      <th>21</th>\n",
       "      <td>Delaware</td>\n",
       "      <td>96</td>\n",
       "      <td>27451.07</td>\n",
       "    </tr>\n",
       "    <tr>\n",
       "      <th>22</th>\n",
       "      <td>Maryland</td>\n",
       "      <td>105</td>\n",
       "      <td>23705.52</td>\n",
       "    </tr>\n",
       "    <tr>\n",
       "      <th>23</th>\n",
       "      <td>Rhode Island</td>\n",
       "      <td>56</td>\n",
       "      <td>22627.96</td>\n",
       "    </tr>\n",
       "    <tr>\n",
       "      <th>24</th>\n",
       "      <td>Missouri</td>\n",
       "      <td>66</td>\n",
       "      <td>22205.15</td>\n",
       "    </tr>\n",
       "    <tr>\n",
       "      <th>25</th>\n",
       "      <td>Oklahoma</td>\n",
       "      <td>66</td>\n",
       "      <td>19683.39</td>\n",
       "    </tr>\n",
       "    <tr>\n",
       "      <th>26</th>\n",
       "      <td>Alabama</td>\n",
       "      <td>61</td>\n",
       "      <td>19510.64</td>\n",
       "    </tr>\n",
       "    <tr>\n",
       "      <th>27</th>\n",
       "      <td>Oregon</td>\n",
       "      <td>124</td>\n",
       "      <td>17431.15</td>\n",
       "    </tr>\n",
       "    <tr>\n",
       "      <th>28</th>\n",
       "      <td>Nevada</td>\n",
       "      <td>39</td>\n",
       "      <td>16729.10</td>\n",
       "    </tr>\n",
       "    <tr>\n",
       "      <th>29</th>\n",
       "      <td>Connecticut</td>\n",
       "      <td>82</td>\n",
       "      <td>13384.36</td>\n",
       "    </tr>\n",
       "    <tr>\n",
       "      <th>30</th>\n",
       "      <td>Arkansas</td>\n",
       "      <td>60</td>\n",
       "      <td>11678.13</td>\n",
       "    </tr>\n",
       "    <tr>\n",
       "      <th>31</th>\n",
       "      <td>Utah</td>\n",
       "      <td>53</td>\n",
       "      <td>11220.06</td>\n",
       "    </tr>\n",
       "    <tr>\n",
       "      <th>32</th>\n",
       "      <td>Mississippi</td>\n",
       "      <td>53</td>\n",
       "      <td>10771.34</td>\n",
       "    </tr>\n",
       "    <tr>\n",
       "      <th>33</th>\n",
       "      <td>Louisiana</td>\n",
       "      <td>42</td>\n",
       "      <td>9217.03</td>\n",
       "    </tr>\n",
       "    <tr>\n",
       "      <th>34</th>\n",
       "      <td>Vermont</td>\n",
       "      <td>11</td>\n",
       "      <td>8929.37</td>\n",
       "    </tr>\n",
       "    <tr>\n",
       "      <th>35</th>\n",
       "      <td>South Carolina</td>\n",
       "      <td>42</td>\n",
       "      <td>8481.71</td>\n",
       "    </tr>\n",
       "    <tr>\n",
       "      <th>36</th>\n",
       "      <td>Nebraska</td>\n",
       "      <td>38</td>\n",
       "      <td>7464.93</td>\n",
       "    </tr>\n",
       "    <tr>\n",
       "      <th>37</th>\n",
       "      <td>New Hampshire</td>\n",
       "      <td>27</td>\n",
       "      <td>7292.52</td>\n",
       "    </tr>\n",
       "    <tr>\n",
       "      <th>38</th>\n",
       "      <td>Montana</td>\n",
       "      <td>15</td>\n",
       "      <td>5589.35</td>\n",
       "    </tr>\n",
       "    <tr>\n",
       "      <th>39</th>\n",
       "      <td>New Mexico</td>\n",
       "      <td>37</td>\n",
       "      <td>4783.52</td>\n",
       "    </tr>\n",
       "    <tr>\n",
       "      <th>40</th>\n",
       "      <td>Iowa</td>\n",
       "      <td>30</td>\n",
       "      <td>4579.76</td>\n",
       "    </tr>\n",
       "    <tr>\n",
       "      <th>41</th>\n",
       "      <td>Idaho</td>\n",
       "      <td>21</td>\n",
       "      <td>4382.49</td>\n",
       "    </tr>\n",
       "    <tr>\n",
       "      <th>42</th>\n",
       "      <td>Kansas</td>\n",
       "      <td>24</td>\n",
       "      <td>2914.31</td>\n",
       "    </tr>\n",
       "    <tr>\n",
       "      <th>43</th>\n",
       "      <td>District of Columbia</td>\n",
       "      <td>10</td>\n",
       "      <td>2865.02</td>\n",
       "    </tr>\n",
       "    <tr>\n",
       "      <th>44</th>\n",
       "      <td>Wyoming</td>\n",
       "      <td>1</td>\n",
       "      <td>1603.14</td>\n",
       "    </tr>\n",
       "    <tr>\n",
       "      <th>45</th>\n",
       "      <td>South Dakota</td>\n",
       "      <td>12</td>\n",
       "      <td>1315.56</td>\n",
       "    </tr>\n",
       "    <tr>\n",
       "      <th>46</th>\n",
       "      <td>Maine</td>\n",
       "      <td>8</td>\n",
       "      <td>1270.53</td>\n",
       "    </tr>\n",
       "    <tr>\n",
       "      <th>47</th>\n",
       "      <td>West Virginia</td>\n",
       "      <td>4</td>\n",
       "      <td>1209.82</td>\n",
       "    </tr>\n",
       "    <tr>\n",
       "      <th>48</th>\n",
       "      <td>North Dakota</td>\n",
       "      <td>7</td>\n",
       "      <td>919.91</td>\n",
       "    </tr>\n",
       "  </tbody>\n",
       "</table>\n",
       "</div>"
      ],
      "text/plain": [
       "                   State  Num_transactions      Sales\n",
       "0             California              2001  457687.63\n",
       "1               New York              1128  310876.27\n",
       "2                  Texas               985  170188.05\n",
       "3             Washington               506  138641.27\n",
       "4           Pennsylvania               587  116511.91\n",
       "5                Florida               383   89473.71\n",
       "6               Illinois               492   80166.10\n",
       "7                   Ohio               469   78258.14\n",
       "8               Michigan               255   76269.61\n",
       "9               Virginia               224   70636.72\n",
       "10        North Carolina               249   55603.16\n",
       "11               Indiana               149   53555.36\n",
       "12               Georgia               184   49095.84\n",
       "13              Kentucky               139   36591.75\n",
       "14            New Jersey               130   35764.31\n",
       "15               Arizona               224   35282.00\n",
       "16             Wisconsin               110   32114.61\n",
       "17              Colorado               182   32108.12\n",
       "18             Tennessee               183   30661.87\n",
       "19             Minnesota                89   29863.15\n",
       "20         Massachusetts               135   28634.43\n",
       "21              Delaware                96   27451.07\n",
       "22              Maryland               105   23705.52\n",
       "23          Rhode Island                56   22627.96\n",
       "24              Missouri                66   22205.15\n",
       "25              Oklahoma                66   19683.39\n",
       "26               Alabama                61   19510.64\n",
       "27                Oregon               124   17431.15\n",
       "28                Nevada                39   16729.10\n",
       "29           Connecticut                82   13384.36\n",
       "30              Arkansas                60   11678.13\n",
       "31                  Utah                53   11220.06\n",
       "32           Mississippi                53   10771.34\n",
       "33             Louisiana                42    9217.03\n",
       "34               Vermont                11    8929.37\n",
       "35        South Carolina                42    8481.71\n",
       "36              Nebraska                38    7464.93\n",
       "37         New Hampshire                27    7292.52\n",
       "38               Montana                15    5589.35\n",
       "39            New Mexico                37    4783.52\n",
       "40                  Iowa                30    4579.76\n",
       "41                 Idaho                21    4382.49\n",
       "42                Kansas                24    2914.31\n",
       "43  District of Columbia                10    2865.02\n",
       "44               Wyoming                 1    1603.14\n",
       "45          South Dakota                12    1315.56\n",
       "46                 Maine                 8    1270.53\n",
       "47         West Virginia                 4    1209.82\n",
       "48          North Dakota                 7     919.91"
      ]
     },
     "execution_count": 125,
     "metadata": {},
     "output_type": "execute_result"
    }
   ],
   "source": [
    "query11 = pd.DataFrame(myresult,columns=['State','Num_transactions','Sales'])\n",
    "query11"
   ]
  },
  {
   "cell_type": "markdown",
   "id": "f1c923b1",
   "metadata": {},
   "source": [
    "**The data presents the demand within each state as well as the economic output of each state in monetary value. States like California and New York exhibit both high number of transactions and sales revenue, indicating major economic centers. Meanwhile, states with lower sales revenue but high order volumes may offer opportunities for businesses to tap into untapped markets or optimize their pricing strategies for higher profitability.**"
   ]
  },
  {
   "cell_type": "markdown",
   "id": "d45728a0",
   "metadata": {},
   "source": [
    "### 12. Find in which cities the profits are the highest and the lowest"
   ]
  },
  {
   "cell_type": "code",
   "execution_count": 76,
   "id": "809fa198",
   "metadata": {},
   "outputs": [
    {
     "name": "stdout",
     "output_type": "stream",
     "text": [
      "(62036.98, 'New York City')\n"
     ]
    }
   ],
   "source": [
    "query12=\"select round(sum(profit),2) , city from orders group by city order by sum(profit) desc limit 1;\"\n",
    "\n",
    "mycursor.execute(query12)\n",
    "myresult=mycursor.fetchall()\n",
    "for i in myresult:\n",
    "    print(i)"
   ]
  },
  {
   "cell_type": "markdown",
   "id": "8c6caf75",
   "metadata": {},
   "source": [
    "**New York City is the city in which Highest Profits are generated.**"
   ]
  },
  {
   "cell_type": "code",
   "execution_count": 78,
   "id": "aad65620",
   "metadata": {},
   "outputs": [
    {
     "name": "stdout",
     "output_type": "stream",
     "text": [
      "(-13837.77, 'Philadelphia')\n"
     ]
    }
   ],
   "source": [
    "query12_1=\"select round(sum(profit),2) , city from orders group by city order by sum(profit) limit 1;\"\n",
    "mycursor.execute(query12_1)\n",
    "myresult=mycursor.fetchall()\n",
    "for i in myresult:\n",
    "    print(i)"
   ]
  },
  {
   "cell_type": "markdown",
   "id": "64499957",
   "metadata": {},
   "source": [
    "**Philadelphia is the city that has experienced the maximum loss.**"
   ]
  },
  {
   "cell_type": "markdown",
   "id": "bc3d6d11",
   "metadata": {},
   "source": [
    "### 13. Which segment is generating Maximum Sales?"
   ]
  },
  {
   "cell_type": "code",
   "execution_count": 79,
   "id": "1cb9b7d0",
   "metadata": {},
   "outputs": [
    {
     "name": "stdout",
     "output_type": "stream",
     "text": [
      "('Consumer', 1161401.34)\n",
      "('Corporate', 706146.37)\n",
      "('Home Office', 429653.15)\n"
     ]
    }
   ],
   "source": [
    "query13 = \"select segment,round(sum(sales),2) from Orders group by segment order by sum(sales) desc\"\n",
    "mycursor.execute(query13)\n",
    "myresult = mycursor.fetchall()\n",
    "\n",
    "for i in myresult:\n",
    "    print(i)"
   ]
  },
  {
   "cell_type": "code",
   "execution_count": 82,
   "id": "b5615bf5",
   "metadata": {},
   "outputs": [
    {
     "data": {
      "text/html": [
       "<div>\n",
       "<style scoped>\n",
       "    .dataframe tbody tr th:only-of-type {\n",
       "        vertical-align: middle;\n",
       "    }\n",
       "\n",
       "    .dataframe tbody tr th {\n",
       "        vertical-align: top;\n",
       "    }\n",
       "\n",
       "    .dataframe thead th {\n",
       "        text-align: right;\n",
       "    }\n",
       "</style>\n",
       "<table border=\"1\" class=\"dataframe\">\n",
       "  <thead>\n",
       "    <tr style=\"text-align: right;\">\n",
       "      <th></th>\n",
       "      <th>Segment</th>\n",
       "      <th>Sales</th>\n",
       "    </tr>\n",
       "  </thead>\n",
       "  <tbody>\n",
       "    <tr>\n",
       "      <th>0</th>\n",
       "      <td>Consumer</td>\n",
       "      <td>1161401.34</td>\n",
       "    </tr>\n",
       "    <tr>\n",
       "      <th>1</th>\n",
       "      <td>Corporate</td>\n",
       "      <td>706146.37</td>\n",
       "    </tr>\n",
       "    <tr>\n",
       "      <th>2</th>\n",
       "      <td>Home Office</td>\n",
       "      <td>429653.15</td>\n",
       "    </tr>\n",
       "  </tbody>\n",
       "</table>\n",
       "</div>"
      ],
      "text/plain": [
       "       Segment       Sales\n",
       "0     Consumer  1161401.34\n",
       "1    Corporate   706146.37\n",
       "2  Home Office   429653.15"
      ]
     },
     "execution_count": 82,
     "metadata": {},
     "output_type": "execute_result"
    }
   ],
   "source": [
    "query13 = pd.DataFrame(myresult,columns = [\"Segment\",\"Sales\"])\n",
    "query13"
   ]
  },
  {
   "cell_type": "code",
   "execution_count": 83,
   "id": "5b209007",
   "metadata": {
    "collapsed": true
   },
   "outputs": [
    {
     "data": {
      "text/plain": [
       "Text(0.5, 1.0, 'Segment-Wise Sales')"
      ]
     },
     "execution_count": 83,
     "metadata": {},
     "output_type": "execute_result"
    },
    {
     "data": {
      "image/png": "[encoded data removed]",
      "text/plain": [
       "<Figure size 640x480 with 1 Axes>"
      ]
     },
     "metadata": {},
     "output_type": "display_data"
    }
   ],
   "source": [
    "plt.pie(query13['Sales'],labels =query13['Segment'], explode=None, colors=None, autopct=\"%0.2f%%\", shadow=False)\n",
    "plt.title('Segment-Wise Sales')"
   ]
  },
  {
   "cell_type": "markdown",
   "id": "7ec69b14",
   "metadata": {},
   "source": [
    "#### INSIGHTS :\n",
    "The pie chart displays sales figures for different segments. The Consumer segment leads with the highest sales, followed by Corporate and Home Office segments. Understanding sales distribution among segments helps businesses about product offerings to better serve the needs and preferences of each segment, ultimately maximizing revenue and customer satisfaction."
   ]
  },
  {
   "cell_type": "markdown",
   "id": "4d4e653f",
   "metadata": {},
   "source": [
    "### 14. From which Segment maximum profits are produced?"
   ]
  },
  {
   "cell_type": "code",
   "execution_count": 89,
   "id": "21097e63",
   "metadata": {},
   "outputs": [
    {
     "name": "stdout",
     "output_type": "stream",
     "text": [
      "('Consumer', 134119.21)\n",
      "('Corporate', 91979.13)\n",
      "('Home Office', 60298.68)\n"
     ]
    }
   ],
   "source": [
    "query14=\"SELECT Segment, round(sum(profit),2) from orders group by segment\"\n",
    "mycursor.execute(query14)\n",
    "myresult = mycursor.fetchall()\n",
    "\n",
    "for i in myresult:\n",
    "    print(i)"
   ]
  },
  {
   "cell_type": "code",
   "execution_count": 91,
   "id": "aeb47f49",
   "metadata": {},
   "outputs": [
    {
     "data": {
      "text/html": [
       "<div>\n",
       "<style scoped>\n",
       "    .dataframe tbody tr th:only-of-type {\n",
       "        vertical-align: middle;\n",
       "    }\n",
       "\n",
       "    .dataframe tbody tr th {\n",
       "        vertical-align: top;\n",
       "    }\n",
       "\n",
       "    .dataframe thead th {\n",
       "        text-align: right;\n",
       "    }\n",
       "</style>\n",
       "<table border=\"1\" class=\"dataframe\">\n",
       "  <thead>\n",
       "    <tr style=\"text-align: right;\">\n",
       "      <th></th>\n",
       "      <th>Segment</th>\n",
       "      <th>Profits</th>\n",
       "    </tr>\n",
       "  </thead>\n",
       "  <tbody>\n",
       "    <tr>\n",
       "      <th>0</th>\n",
       "      <td>Consumer</td>\n",
       "      <td>134119.21</td>\n",
       "    </tr>\n",
       "    <tr>\n",
       "      <th>1</th>\n",
       "      <td>Corporate</td>\n",
       "      <td>91979.13</td>\n",
       "    </tr>\n",
       "    <tr>\n",
       "      <th>2</th>\n",
       "      <td>Home Office</td>\n",
       "      <td>60298.68</td>\n",
       "    </tr>\n",
       "  </tbody>\n",
       "</table>\n",
       "</div>"
      ],
      "text/plain": [
       "       Segment    Profits\n",
       "0     Consumer  134119.21\n",
       "1    Corporate   91979.13\n",
       "2  Home Office   60298.68"
      ]
     },
     "execution_count": 91,
     "metadata": {},
     "output_type": "execute_result"
    }
   ],
   "source": [
    "query14 = pd.DataFrame(myresult,columns = [\"Segment\",\"Profits\"])\n",
    "query14"
   ]
  },
  {
   "cell_type": "code",
   "execution_count": 93,
   "id": "e1d770e8",
   "metadata": {},
   "outputs": [
    {
     "data": {
      "text/plain": [
       "Text(0.5, 1.0, 'Segment-Wise Profits')"
      ]
     },
     "execution_count": 93,
     "metadata": {},
     "output_type": "execute_result"
    },
    {
     "data": {
      "image/png": "[encoded data removed]",
      "text/plain": [
       "<Figure size 640x480 with 1 Axes>"
      ]
     },
     "metadata": {},
     "output_type": "display_data"
    }
   ],
   "source": [
    "plt.pie(query14['Profits'],labels =query14['Segment'], explode=None, colors=None, autopct=\"%0.2f%%\", shadow=False)\n",
    "plt.title('Segment-Wise Profits')"
   ]
  },
  {
   "cell_type": "markdown",
   "id": "ef71d1da",
   "metadata": {},
   "source": [
    "#### INSIGHTS :\n",
    "In the pie chart most of the weightage is given to Consumer segment and after that it is corporate segment which is showing good profits. Home Office is showing least profits among the segments. This analysis helps to understand about performance evalution of each segment and products offerings according to the patterns in customer behaviour."
   ]
  },
  {
   "cell_type": "markdown",
   "id": "69d422a0",
   "metadata": {},
   "source": [
    "### 15. Find the customers who have occured more than 25 times"
   ]
  },
  {
   "cell_type": "code",
   "execution_count": 94,
   "id": "115ec847",
   "metadata": {
    "scrolled": true
   },
   "outputs": [
    {
     "name": "stdout",
     "output_type": "stream",
     "text": [
      "(34, 'Matt Abelman')\n",
      "(28, 'Kunst Miller')\n",
      "(30, 'Lena Cacioppo')\n",
      "(28, 'Clay Ludtke')\n",
      "(26, 'Steven Cartwright')\n",
      "(32, 'Jonathan Doherty')\n",
      "(29, 'Sally Hughsby')\n",
      "(26, 'Cassandra Brandow')\n",
      "(29, 'Ken Lonsdale')\n",
      "(26, 'Laura Armstrong')\n",
      "(28, 'Xylona Preis')\n",
      "(31, 'Emily Phan')\n",
      "(29, 'Greg Tran')\n",
      "(31, 'Zuschuss Carroll')\n",
      "(32, 'Chloris Kastensmidt')\n",
      "(34, 'John Lee')\n",
      "(31, 'Arthur Prichep')\n",
      "(32, 'Seth Vernon')\n",
      "(28, 'Chris Selesnick')\n",
      "(26, 'Patrick Gardner')\n",
      "(29, 'Brian Moss')\n",
      "(26, 'Noel Staavos')\n",
      "(27, 'Ben Ferrer')\n",
      "(34, 'Paul Prost')\n",
      "(27, 'Damala Kotsonis')\n",
      "(28, 'Keith Dawkins')\n",
      "(32, 'Edward Hooks')\n",
      "(37, 'William Brown')\n",
      "(29, 'Dean percer')\n"
     ]
    }
   ],
   "source": [
    "query15 = \"select count(`Customer Name`),`customer name` from Orders group by `customer name` having count(`Customer Name`) > 25\"\n",
    "mycursor.execute(query15)\n",
    "myresult = mycursor.fetchall()\n",
    "for i in myresult:\n",
    "    print(i)"
   ]
  },
  {
   "cell_type": "code",
   "execution_count": 95,
   "id": "2fad27ad",
   "metadata": {
    "scrolled": true
   },
   "outputs": [
    {
     "data": {
      "text/html": [
       "<div>\n",
       "<style scoped>\n",
       "    .dataframe tbody tr th:only-of-type {\n",
       "        vertical-align: middle;\n",
       "    }\n",
       "\n",
       "    .dataframe tbody tr th {\n",
       "        vertical-align: top;\n",
       "    }\n",
       "\n",
       "    .dataframe thead th {\n",
       "        text-align: right;\n",
       "    }\n",
       "</style>\n",
       "<table border=\"1\" class=\"dataframe\">\n",
       "  <thead>\n",
       "    <tr style=\"text-align: right;\">\n",
       "      <th></th>\n",
       "      <th>Occurence</th>\n",
       "      <th>Customer_Name</th>\n",
       "    </tr>\n",
       "  </thead>\n",
       "  <tbody>\n",
       "    <tr>\n",
       "      <th>0</th>\n",
       "      <td>34</td>\n",
       "      <td>Matt Abelman</td>\n",
       "    </tr>\n",
       "    <tr>\n",
       "      <th>1</th>\n",
       "      <td>28</td>\n",
       "      <td>Kunst Miller</td>\n",
       "    </tr>\n",
       "    <tr>\n",
       "      <th>2</th>\n",
       "      <td>30</td>\n",
       "      <td>Lena Cacioppo</td>\n",
       "    </tr>\n",
       "    <tr>\n",
       "      <th>3</th>\n",
       "      <td>28</td>\n",
       "      <td>Clay Ludtke</td>\n",
       "    </tr>\n",
       "    <tr>\n",
       "      <th>4</th>\n",
       "      <td>26</td>\n",
       "      <td>Steven Cartwright</td>\n",
       "    </tr>\n",
       "    <tr>\n",
       "      <th>5</th>\n",
       "      <td>32</td>\n",
       "      <td>Jonathan Doherty</td>\n",
       "    </tr>\n",
       "    <tr>\n",
       "      <th>6</th>\n",
       "      <td>29</td>\n",
       "      <td>Sally Hughsby</td>\n",
       "    </tr>\n",
       "    <tr>\n",
       "      <th>7</th>\n",
       "      <td>26</td>\n",
       "      <td>Cassandra Brandow</td>\n",
       "    </tr>\n",
       "    <tr>\n",
       "      <th>8</th>\n",
       "      <td>29</td>\n",
       "      <td>Ken Lonsdale</td>\n",
       "    </tr>\n",
       "    <tr>\n",
       "      <th>9</th>\n",
       "      <td>26</td>\n",
       "      <td>Laura Armstrong</td>\n",
       "    </tr>\n",
       "    <tr>\n",
       "      <th>10</th>\n",
       "      <td>28</td>\n",
       "      <td>Xylona Preis</td>\n",
       "    </tr>\n",
       "    <tr>\n",
       "      <th>11</th>\n",
       "      <td>31</td>\n",
       "      <td>Emily Phan</td>\n",
       "    </tr>\n",
       "    <tr>\n",
       "      <th>12</th>\n",
       "      <td>29</td>\n",
       "      <td>Greg Tran</td>\n",
       "    </tr>\n",
       "    <tr>\n",
       "      <th>13</th>\n",
       "      <td>31</td>\n",
       "      <td>Zuschuss Carroll</td>\n",
       "    </tr>\n",
       "    <tr>\n",
       "      <th>14</th>\n",
       "      <td>32</td>\n",
       "      <td>Chloris Kastensmidt</td>\n",
       "    </tr>\n",
       "    <tr>\n",
       "      <th>15</th>\n",
       "      <td>34</td>\n",
       "      <td>John Lee</td>\n",
       "    </tr>\n",
       "    <tr>\n",
       "      <th>16</th>\n",
       "      <td>31</td>\n",
       "      <td>Arthur Prichep</td>\n",
       "    </tr>\n",
       "    <tr>\n",
       "      <th>17</th>\n",
       "      <td>32</td>\n",
       "      <td>Seth Vernon</td>\n",
       "    </tr>\n",
       "    <tr>\n",
       "      <th>18</th>\n",
       "      <td>28</td>\n",
       "      <td>Chris Selesnick</td>\n",
       "    </tr>\n",
       "    <tr>\n",
       "      <th>19</th>\n",
       "      <td>26</td>\n",
       "      <td>Patrick Gardner</td>\n",
       "    </tr>\n",
       "    <tr>\n",
       "      <th>20</th>\n",
       "      <td>29</td>\n",
       "      <td>Brian Moss</td>\n",
       "    </tr>\n",
       "    <tr>\n",
       "      <th>21</th>\n",
       "      <td>26</td>\n",
       "      <td>Noel Staavos</td>\n",
       "    </tr>\n",
       "    <tr>\n",
       "      <th>22</th>\n",
       "      <td>27</td>\n",
       "      <td>Ben Ferrer</td>\n",
       "    </tr>\n",
       "    <tr>\n",
       "      <th>23</th>\n",
       "      <td>34</td>\n",
       "      <td>Paul Prost</td>\n",
       "    </tr>\n",
       "    <tr>\n",
       "      <th>24</th>\n",
       "      <td>27</td>\n",
       "      <td>Damala Kotsonis</td>\n",
       "    </tr>\n",
       "    <tr>\n",
       "      <th>25</th>\n",
       "      <td>28</td>\n",
       "      <td>Keith Dawkins</td>\n",
       "    </tr>\n",
       "    <tr>\n",
       "      <th>26</th>\n",
       "      <td>32</td>\n",
       "      <td>Edward Hooks</td>\n",
       "    </tr>\n",
       "    <tr>\n",
       "      <th>27</th>\n",
       "      <td>37</td>\n",
       "      <td>William Brown</td>\n",
       "    </tr>\n",
       "    <tr>\n",
       "      <th>28</th>\n",
       "      <td>29</td>\n",
       "      <td>Dean percer</td>\n",
       "    </tr>\n",
       "  </tbody>\n",
       "</table>\n",
       "</div>"
      ],
      "text/plain": [
       "    Occurence        Customer_Name\n",
       "0          34         Matt Abelman\n",
       "1          28         Kunst Miller\n",
       "2          30        Lena Cacioppo\n",
       "3          28          Clay Ludtke\n",
       "4          26    Steven Cartwright\n",
       "5          32     Jonathan Doherty\n",
       "6          29        Sally Hughsby\n",
       "7          26    Cassandra Brandow\n",
       "8          29         Ken Lonsdale\n",
       "9          26      Laura Armstrong\n",
       "10         28         Xylona Preis\n",
       "11         31           Emily Phan\n",
       "12         29            Greg Tran\n",
       "13         31     Zuschuss Carroll\n",
       "14         32  Chloris Kastensmidt\n",
       "15         34             John Lee\n",
       "16         31       Arthur Prichep\n",
       "17         32          Seth Vernon\n",
       "18         28      Chris Selesnick\n",
       "19         26      Patrick Gardner\n",
       "20         29           Brian Moss\n",
       "21         26         Noel Staavos\n",
       "22         27           Ben Ferrer\n",
       "23         34           Paul Prost\n",
       "24         27      Damala Kotsonis\n",
       "25         28        Keith Dawkins\n",
       "26         32         Edward Hooks\n",
       "27         37        William Brown\n",
       "28         29          Dean percer"
      ]
     },
     "execution_count": 95,
     "metadata": {},
     "output_type": "execute_result"
    }
   ],
   "source": [
    "query15 = pd.DataFrame(myresult,columns = [\"Occurence\",\"Customer_Name\"])\n",
    "query15"
   ]
  },
  {
   "cell_type": "markdown",
   "id": "d833bd7a",
   "metadata": {},
   "source": [
    "**The DataFrame above contains a list of customers who have appeared in the data more than 25 times indicating that they maybe recurring or loyal customers.**"
   ]
  },
  {
   "cell_type": "markdown",
   "id": "a3e890e6",
   "metadata": {},
   "source": [
    "### 16.Find the top 10 customers who bought Maximum Quantity."
   ]
  },
  {
   "cell_type": "code",
   "execution_count": 96,
   "id": "2b04765a",
   "metadata": {},
   "outputs": [
    {
     "name": "stdout",
     "output_type": "stream",
     "text": [
      "('Jonathan Doherty', Decimal('150'))\n",
      "('William Brown', Decimal('146'))\n",
      "('John Lee', Decimal('143'))\n",
      "('Paul Prost', Decimal('138'))\n",
      "('Steven Cartwright', Decimal('133'))\n",
      "('Emily Phan', Decimal('124'))\n",
      "('Chloris Kastensmidt', Decimal('122'))\n",
      "('Cassandra Brandow', Decimal('122'))\n",
      "('Edward Hooks', Decimal('120'))\n",
      "('Matt Abelman', Decimal('117'))\n"
     ]
    }
   ],
   "source": [
    "query16 = \"select `customer name`,sum(quantity) from Orders group by `customer name` order by sum(quantity) desc limit 10\"\n",
    "mycursor.execute(query16)\n",
    "myresult = mycursor.fetchall()\n",
    "for i in myresult:\n",
    "    print (i)"
   ]
  },
  {
   "cell_type": "code",
   "execution_count": 97,
   "id": "c9d62760",
   "metadata": {},
   "outputs": [
    {
     "data": {
      "text/html": [
       "<div>\n",
       "<style scoped>\n",
       "    .dataframe tbody tr th:only-of-type {\n",
       "        vertical-align: middle;\n",
       "    }\n",
       "\n",
       "    .dataframe tbody tr th {\n",
       "        vertical-align: top;\n",
       "    }\n",
       "\n",
       "    .dataframe thead th {\n",
       "        text-align: right;\n",
       "    }\n",
       "</style>\n",
       "<table border=\"1\" class=\"dataframe\">\n",
       "  <thead>\n",
       "    <tr style=\"text-align: right;\">\n",
       "      <th></th>\n",
       "      <th>Customer Name</th>\n",
       "      <th>Quantity</th>\n",
       "    </tr>\n",
       "  </thead>\n",
       "  <tbody>\n",
       "    <tr>\n",
       "      <th>0</th>\n",
       "      <td>Jonathan Doherty</td>\n",
       "      <td>150</td>\n",
       "    </tr>\n",
       "    <tr>\n",
       "      <th>1</th>\n",
       "      <td>William Brown</td>\n",
       "      <td>146</td>\n",
       "    </tr>\n",
       "    <tr>\n",
       "      <th>2</th>\n",
       "      <td>John Lee</td>\n",
       "      <td>143</td>\n",
       "    </tr>\n",
       "    <tr>\n",
       "      <th>3</th>\n",
       "      <td>Paul Prost</td>\n",
       "      <td>138</td>\n",
       "    </tr>\n",
       "    <tr>\n",
       "      <th>4</th>\n",
       "      <td>Steven Cartwright</td>\n",
       "      <td>133</td>\n",
       "    </tr>\n",
       "    <tr>\n",
       "      <th>5</th>\n",
       "      <td>Emily Phan</td>\n",
       "      <td>124</td>\n",
       "    </tr>\n",
       "    <tr>\n",
       "      <th>6</th>\n",
       "      <td>Chloris Kastensmidt</td>\n",
       "      <td>122</td>\n",
       "    </tr>\n",
       "    <tr>\n",
       "      <th>7</th>\n",
       "      <td>Cassandra Brandow</td>\n",
       "      <td>122</td>\n",
       "    </tr>\n",
       "    <tr>\n",
       "      <th>8</th>\n",
       "      <td>Edward Hooks</td>\n",
       "      <td>120</td>\n",
       "    </tr>\n",
       "    <tr>\n",
       "      <th>9</th>\n",
       "      <td>Matt Abelman</td>\n",
       "      <td>117</td>\n",
       "    </tr>\n",
       "  </tbody>\n",
       "</table>\n",
       "</div>"
      ],
      "text/plain": [
       "         Customer Name Quantity\n",
       "0     Jonathan Doherty      150\n",
       "1        William Brown      146\n",
       "2             John Lee      143\n",
       "3           Paul Prost      138\n",
       "4    Steven Cartwright      133\n",
       "5           Emily Phan      124\n",
       "6  Chloris Kastensmidt      122\n",
       "7    Cassandra Brandow      122\n",
       "8         Edward Hooks      120\n",
       "9         Matt Abelman      117"
      ]
     },
     "execution_count": 97,
     "metadata": {},
     "output_type": "execute_result"
    }
   ],
   "source": [
    "query16 = pd.DataFrame(myresult,columns=[\"Customer Name\",\"Quantity\"])\n",
    "query16"
   ]
  },
  {
   "cell_type": "markdown",
   "id": "208ec787",
   "metadata": {},
   "source": [
    "**The DataFrame above lists individuals who have purchased the maximum quantity of products.**"
   ]
  },
  {
   "cell_type": "markdown",
   "id": "e7f3db2f",
   "metadata": {},
   "source": [
    "### 17. Which is the most used Shipping Mode?"
   ]
  },
  {
   "cell_type": "code",
   "execution_count": 98,
   "id": "dd30107a",
   "metadata": {},
   "outputs": [
    {
     "name": "stdout",
     "output_type": "stream",
     "text": [
      "('Standard Class', 5968)\n",
      "('Second Class', 1945)\n",
      "('First Class', 1538)\n",
      "('Same Day', 543)\n"
     ]
    }
   ],
   "source": [
    "query17 = \"select `Ship Mode`, count(`Ship Mode`) from Orders group by `ship mode` order by count(`ship mode`) desc\"\n",
    "\n",
    "mycursor.execute(query17)\n",
    "myresult = mycursor.fetchall()\n",
    "for i in myresult:\n",
    "    print(i)"
   ]
  },
  {
   "cell_type": "code",
   "execution_count": 99,
   "id": "22b97e0f",
   "metadata": {},
   "outputs": [
    {
     "data": {
      "text/html": [
       "<div>\n",
       "<style scoped>\n",
       "    .dataframe tbody tr th:only-of-type {\n",
       "        vertical-align: middle;\n",
       "    }\n",
       "\n",
       "    .dataframe tbody tr th {\n",
       "        vertical-align: top;\n",
       "    }\n",
       "\n",
       "    .dataframe thead th {\n",
       "        text-align: right;\n",
       "    }\n",
       "</style>\n",
       "<table border=\"1\" class=\"dataframe\">\n",
       "  <thead>\n",
       "    <tr style=\"text-align: right;\">\n",
       "      <th></th>\n",
       "      <th>Ship Mode</th>\n",
       "      <th>Number of Orders</th>\n",
       "    </tr>\n",
       "  </thead>\n",
       "  <tbody>\n",
       "    <tr>\n",
       "      <th>0</th>\n",
       "      <td>Standard Class</td>\n",
       "      <td>5968</td>\n",
       "    </tr>\n",
       "    <tr>\n",
       "      <th>1</th>\n",
       "      <td>Second Class</td>\n",
       "      <td>1945</td>\n",
       "    </tr>\n",
       "    <tr>\n",
       "      <th>2</th>\n",
       "      <td>First Class</td>\n",
       "      <td>1538</td>\n",
       "    </tr>\n",
       "    <tr>\n",
       "      <th>3</th>\n",
       "      <td>Same Day</td>\n",
       "      <td>543</td>\n",
       "    </tr>\n",
       "  </tbody>\n",
       "</table>\n",
       "</div>"
      ],
      "text/plain": [
       "        Ship Mode  Number of Orders\n",
       "0  Standard Class              5968\n",
       "1    Second Class              1945\n",
       "2     First Class              1538\n",
       "3        Same Day               543"
      ]
     },
     "execution_count": 99,
     "metadata": {},
     "output_type": "execute_result"
    }
   ],
   "source": [
    "query17 = pd.DataFrame(myresult,columns = [\"Ship Mode\",\"Number of Orders\"])\n",
    "query17"
   ]
  },
  {
   "cell_type": "code",
   "execution_count": 101,
   "id": "bc67eb6f",
   "metadata": {},
   "outputs": [
    {
     "data": {
      "text/plain": [
       "Text(0.5, 1.0, 'Shipping Mode')"
      ]
     },
     "execution_count": 101,
     "metadata": {},
     "output_type": "execute_result"
    },
    {
     "data": {
      "image/png": "[encoded data removed]",
      "text/plain": [
       "<Figure size 640x480 with 1 Axes>"
      ]
     },
     "metadata": {},
     "output_type": "display_data"
    }
   ],
   "source": [
    "plt.pie(query17['Number of Orders'],labels = query17['Ship Mode'], explode=None, colors=None, autopct=\"%0.2f%%\", shadow=False)\n",
    "plt.title('Shipping Mode')"
   ]
  },
  {
   "cell_type": "markdown",
   "id": "491dc62a",
   "metadata": {},
   "source": [
    "#### INSIGHTS :\n",
    "Among the shipping modes, Same Day shows the lowest preference, followed by First Class, which is preferred abit more. Second Class is also a popular option. However, it's noteworthy that Standard Class emerges as the top choice for shipping mode. Based on this observation, it's reasonable to assume that Standard Class will continue to be the preferred shipping mode for future order deliveries."
   ]
  },
  {
   "cell_type": "markdown",
   "id": "b14174ba",
   "metadata": {},
   "source": [
    "### 18. Find which Products got Maximum Discounts."
   ]
  },
  {
   "cell_type": "code",
   "execution_count": 102,
   "id": "acacf8e3",
   "metadata": {},
   "outputs": [
    {
     "name": "stdout",
     "output_type": "stream",
     "text": [
      "(7.0, 'Storex Dura Pro Binders', 'Binders')\n",
      "(7.0, 'Avery Non-Stick Binders', 'Binders')\n",
      "(6.0, 'GBC Instant Report Kit', 'Binders')\n",
      "(6.0, 'Avery Self-Adhesive Photo Pockets for Polaroid Photos', 'Binders')\n",
      "(6.0, 'GBC Standard Recycled Report Covers, Clear Plastic Sheets', 'Binders')\n"
     ]
    }
   ],
   "source": [
    "query18 = \"SELECT ROUND(SUM(discount)), `product name`, `sub-category` FROM Orders GROUP BY `product name` , `Sub-Category` ORDER BY SUM(Discount) DESC LIMIT 5\"\n",
    "mycursor.execute(query18)\n",
    "myresult = mycursor.fetchall()\n",
    "for i in myresult:\n",
    "    print (i)"
   ]
  },
  {
   "cell_type": "code",
   "execution_count": 103,
   "id": "d4af836c",
   "metadata": {},
   "outputs": [
    {
     "data": {
      "text/html": [
       "<div>\n",
       "<style scoped>\n",
       "    .dataframe tbody tr th:only-of-type {\n",
       "        vertical-align: middle;\n",
       "    }\n",
       "\n",
       "    .dataframe tbody tr th {\n",
       "        vertical-align: top;\n",
       "    }\n",
       "\n",
       "    .dataframe thead th {\n",
       "        text-align: right;\n",
       "    }\n",
       "</style>\n",
       "<table border=\"1\" class=\"dataframe\">\n",
       "  <thead>\n",
       "    <tr style=\"text-align: right;\">\n",
       "      <th></th>\n",
       "      <th>Discount</th>\n",
       "      <th>product name</th>\n",
       "      <th>sub-category</th>\n",
       "    </tr>\n",
       "  </thead>\n",
       "  <tbody>\n",
       "    <tr>\n",
       "      <th>0</th>\n",
       "      <td>7.0</td>\n",
       "      <td>Storex Dura Pro Binders</td>\n",
       "      <td>Binders</td>\n",
       "    </tr>\n",
       "    <tr>\n",
       "      <th>1</th>\n",
       "      <td>7.0</td>\n",
       "      <td>Avery Non-Stick Binders</td>\n",
       "      <td>Binders</td>\n",
       "    </tr>\n",
       "    <tr>\n",
       "      <th>2</th>\n",
       "      <td>6.0</td>\n",
       "      <td>GBC Instant Report Kit</td>\n",
       "      <td>Binders</td>\n",
       "    </tr>\n",
       "    <tr>\n",
       "      <th>3</th>\n",
       "      <td>6.0</td>\n",
       "      <td>Avery Self-Adhesive Photo Pockets for Polaroid...</td>\n",
       "      <td>Binders</td>\n",
       "    </tr>\n",
       "    <tr>\n",
       "      <th>4</th>\n",
       "      <td>6.0</td>\n",
       "      <td>GBC Standard Recycled Report Covers, Clear Pla...</td>\n",
       "      <td>Binders</td>\n",
       "    </tr>\n",
       "  </tbody>\n",
       "</table>\n",
       "</div>"
      ],
      "text/plain": [
       "   Discount                                       product name sub-category\n",
       "0       7.0                            Storex Dura Pro Binders      Binders\n",
       "1       7.0                            Avery Non-Stick Binders      Binders\n",
       "2       6.0                             GBC Instant Report Kit      Binders\n",
       "3       6.0  Avery Self-Adhesive Photo Pockets for Polaroid...      Binders\n",
       "4       6.0  GBC Standard Recycled Report Covers, Clear Pla...      Binders"
      ]
     },
     "execution_count": 103,
     "metadata": {},
     "output_type": "execute_result"
    }
   ],
   "source": [
    "query18 = pd.DataFrame(myresult,columns=[\"Discount\", \"product name\", \"sub-category\"])\n",
    "query18"
   ]
  },
  {
   "cell_type": "markdown",
   "id": "4216562a",
   "metadata": {},
   "source": [
    "**The DataFrame above lists the top 5 products that received the maximum discount. It's noteworthy that all these products belong to the Binders sub-category.**"
   ]
  },
  {
   "cell_type": "markdown",
   "id": "8ae83c61",
   "metadata": {},
   "source": [
    "### 19. Which Sub-Category had the most products returned?"
   ]
  },
  {
   "cell_type": "code",
   "execution_count": 110,
   "id": "6c52597f",
   "metadata": {},
   "outputs": [
    {
     "name": "stdout",
     "output_type": "stream",
     "text": [
      "(137, 'Binders', 'Office Supplies')\n",
      "(123, 'Paper', 'Office Supplies')\n",
      "(77, 'Phones', 'Technology')\n",
      "(72, 'Furnishings', 'Furniture')\n",
      "(61, 'Accessories', 'Technology')\n",
      "(57, 'Storage', 'Office Supplies')\n",
      "(53, 'Chairs', 'Furniture')\n",
      "(47, 'Art', 'Office Supplies')\n",
      "(40, 'Appliances', 'Office Supplies')\n",
      "(30, 'Tables', 'Furniture')\n",
      "(21, 'Labels', 'Office Supplies')\n",
      "(19, 'Fasteners', 'Office Supplies')\n",
      "(16, 'Supplies', 'Office Supplies')\n",
      "(16, 'Bookcases', 'Furniture')\n",
      "(13, 'Machines', 'Technology')\n",
      "(13, 'Envelopes', 'Office Supplies')\n",
      "(5, 'Copiers', 'Technology')\n"
     ]
    }
   ],
   "source": [
    "query19=\"SELECT COUNT(*) AS return_count,`sub-category`,category FROM returns JOIN Orders USING (`order id`) WHERE Returned = 'yes' GROUP BY `sub-category`,category ORDER BY return_count DESC\"\n",
    "mycursor.execute(query19)\n",
    "myresult=mycursor.fetchall()\n",
    "for i in myresult:\n",
    "    print(i)"
   ]
  },
  {
   "cell_type": "code",
   "execution_count": 112,
   "id": "d00eb2f4",
   "metadata": {},
   "outputs": [
    {
     "data": {
      "text/html": [
       "<div>\n",
       "<style scoped>\n",
       "    .dataframe tbody tr th:only-of-type {\n",
       "        vertical-align: middle;\n",
       "    }\n",
       "\n",
       "    .dataframe tbody tr th {\n",
       "        vertical-align: top;\n",
       "    }\n",
       "\n",
       "    .dataframe thead th {\n",
       "        text-align: right;\n",
       "    }\n",
       "</style>\n",
       "<table border=\"1\" class=\"dataframe\">\n",
       "  <thead>\n",
       "    <tr style=\"text-align: right;\">\n",
       "      <th></th>\n",
       "      <th>Number of Returns</th>\n",
       "      <th>Sub-Category</th>\n",
       "      <th>Category</th>\n",
       "    </tr>\n",
       "  </thead>\n",
       "  <tbody>\n",
       "    <tr>\n",
       "      <th>0</th>\n",
       "      <td>137</td>\n",
       "      <td>Binders</td>\n",
       "      <td>Office Supplies</td>\n",
       "    </tr>\n",
       "    <tr>\n",
       "      <th>1</th>\n",
       "      <td>123</td>\n",
       "      <td>Paper</td>\n",
       "      <td>Office Supplies</td>\n",
       "    </tr>\n",
       "    <tr>\n",
       "      <th>2</th>\n",
       "      <td>77</td>\n",
       "      <td>Phones</td>\n",
       "      <td>Technology</td>\n",
       "    </tr>\n",
       "    <tr>\n",
       "      <th>3</th>\n",
       "      <td>72</td>\n",
       "      <td>Furnishings</td>\n",
       "      <td>Furniture</td>\n",
       "    </tr>\n",
       "    <tr>\n",
       "      <th>4</th>\n",
       "      <td>61</td>\n",
       "      <td>Accessories</td>\n",
       "      <td>Technology</td>\n",
       "    </tr>\n",
       "    <tr>\n",
       "      <th>5</th>\n",
       "      <td>57</td>\n",
       "      <td>Storage</td>\n",
       "      <td>Office Supplies</td>\n",
       "    </tr>\n",
       "    <tr>\n",
       "      <th>6</th>\n",
       "      <td>53</td>\n",
       "      <td>Chairs</td>\n",
       "      <td>Furniture</td>\n",
       "    </tr>\n",
       "    <tr>\n",
       "      <th>7</th>\n",
       "      <td>47</td>\n",
       "      <td>Art</td>\n",
       "      <td>Office Supplies</td>\n",
       "    </tr>\n",
       "    <tr>\n",
       "      <th>8</th>\n",
       "      <td>40</td>\n",
       "      <td>Appliances</td>\n",
       "      <td>Office Supplies</td>\n",
       "    </tr>\n",
       "    <tr>\n",
       "      <th>9</th>\n",
       "      <td>30</td>\n",
       "      <td>Tables</td>\n",
       "      <td>Furniture</td>\n",
       "    </tr>\n",
       "    <tr>\n",
       "      <th>10</th>\n",
       "      <td>21</td>\n",
       "      <td>Labels</td>\n",
       "      <td>Office Supplies</td>\n",
       "    </tr>\n",
       "    <tr>\n",
       "      <th>11</th>\n",
       "      <td>19</td>\n",
       "      <td>Fasteners</td>\n",
       "      <td>Office Supplies</td>\n",
       "    </tr>\n",
       "    <tr>\n",
       "      <th>12</th>\n",
       "      <td>16</td>\n",
       "      <td>Supplies</td>\n",
       "      <td>Office Supplies</td>\n",
       "    </tr>\n",
       "    <tr>\n",
       "      <th>13</th>\n",
       "      <td>16</td>\n",
       "      <td>Bookcases</td>\n",
       "      <td>Furniture</td>\n",
       "    </tr>\n",
       "    <tr>\n",
       "      <th>14</th>\n",
       "      <td>13</td>\n",
       "      <td>Machines</td>\n",
       "      <td>Technology</td>\n",
       "    </tr>\n",
       "    <tr>\n",
       "      <th>15</th>\n",
       "      <td>13</td>\n",
       "      <td>Envelopes</td>\n",
       "      <td>Office Supplies</td>\n",
       "    </tr>\n",
       "    <tr>\n",
       "      <th>16</th>\n",
       "      <td>5</td>\n",
       "      <td>Copiers</td>\n",
       "      <td>Technology</td>\n",
       "    </tr>\n",
       "  </tbody>\n",
       "</table>\n",
       "</div>"
      ],
      "text/plain": [
       "    Number of Returns Sub-Category         Category\n",
       "0                 137      Binders  Office Supplies\n",
       "1                 123        Paper  Office Supplies\n",
       "2                  77       Phones       Technology\n",
       "3                  72  Furnishings        Furniture\n",
       "4                  61  Accessories       Technology\n",
       "5                  57      Storage  Office Supplies\n",
       "6                  53       Chairs        Furniture\n",
       "7                  47          Art  Office Supplies\n",
       "8                  40   Appliances  Office Supplies\n",
       "9                  30       Tables        Furniture\n",
       "10                 21       Labels  Office Supplies\n",
       "11                 19    Fasteners  Office Supplies\n",
       "12                 16     Supplies  Office Supplies\n",
       "13                 16    Bookcases        Furniture\n",
       "14                 13     Machines       Technology\n",
       "15                 13    Envelopes  Office Supplies\n",
       "16                  5      Copiers       Technology"
      ]
     },
     "execution_count": 112,
     "metadata": {},
     "output_type": "execute_result"
    }
   ],
   "source": [
    "query19=pd.DataFrame(myresult,columns=['Number of Returns','Sub-Category','Category'])\n",
    "query19"
   ]
  },
  {
   "cell_type": "code",
   "execution_count": 113,
   "id": "2badff35",
   "metadata": {},
   "outputs": [
    {
     "data": {
      "image/png": "[encoded data removed]",
      "text/plain": [
       "<Figure size 640x480 with 1 Axes>"
      ]
     },
     "metadata": {},
     "output_type": "display_data"
    }
   ],
   "source": [
    "sns.barplot(x='Sub-Category',y='Number of Returns',data=query19,errorbar=('ci',0))\n",
    "plt.xticks(rotation=270);"
   ]
  },
  {
   "cell_type": "markdown",
   "id": "99e90246",
   "metadata": {},
   "source": [
    "#### INSIGHTS :\n",
    "The bar graph highlights the frequency of product returns across various sub-categories and categories. It's evident that office-related items, such as binders, paper, experience a significant number of returns compared to other sub-categories. This insight suggests potential areas for improvement in product quality, customer satisfaction, or fulfillment processes within the office supplies category as the most returns are from office supplies. Analyzing return patterns can help businesses identify underlying issues and implement strategies to reduce returns and enhance overall customer experience."
   ]
  },
  {
   "cell_type": "markdown",
   "id": "248094ed",
   "metadata": {},
   "source": [
    "### 20. Which Manager generates how much Profits?"
   ]
  },
  {
   "cell_type": "code",
   "execution_count": 115,
   "id": "49fe6419",
   "metadata": {},
   "outputs": [
    {
     "name": "stdout",
     "output_type": "stream",
     "text": [
      "('Anna Andreadi', 108418.0, 'West')\n",
      "('Chuck Magee', 91523.0, 'East')\n",
      "('Cassandra Brandow', 46749.0, 'South')\n",
      "('Kelly Williams', 39706.0, 'Central')\n"
     ]
    }
   ],
   "source": [
    "query20=\"select person,round(sum(profit)),Region from Orders join people using (region) group by person, Region order by sum(profit) desc\"\n",
    "mycursor.execute(query20)\n",
    "myresult=mycursor.fetchall()\n",
    "for i in myresult:\n",
    "    print(i)"
   ]
  },
  {
   "cell_type": "code",
   "execution_count": 120,
   "id": "2e52ca4c",
   "metadata": {},
   "outputs": [
    {
     "data": {
      "text/html": [
       "<div>\n",
       "<style scoped>\n",
       "    .dataframe tbody tr th:only-of-type {\n",
       "        vertical-align: middle;\n",
       "    }\n",
       "\n",
       "    .dataframe tbody tr th {\n",
       "        vertical-align: top;\n",
       "    }\n",
       "\n",
       "    .dataframe thead th {\n",
       "        text-align: right;\n",
       "    }\n",
       "</style>\n",
       "<table border=\"1\" class=\"dataframe\">\n",
       "  <thead>\n",
       "    <tr style=\"text-align: right;\">\n",
       "      <th></th>\n",
       "      <th>Person</th>\n",
       "      <th>Profit</th>\n",
       "      <th>Region</th>\n",
       "    </tr>\n",
       "  </thead>\n",
       "  <tbody>\n",
       "    <tr>\n",
       "      <th>0</th>\n",
       "      <td>Anna Andreadi</td>\n",
       "      <td>108418.0</td>\n",
       "      <td>West</td>\n",
       "    </tr>\n",
       "    <tr>\n",
       "      <th>1</th>\n",
       "      <td>Chuck Magee</td>\n",
       "      <td>91523.0</td>\n",
       "      <td>East</td>\n",
       "    </tr>\n",
       "    <tr>\n",
       "      <th>2</th>\n",
       "      <td>Cassandra Brandow</td>\n",
       "      <td>46749.0</td>\n",
       "      <td>South</td>\n",
       "    </tr>\n",
       "    <tr>\n",
       "      <th>3</th>\n",
       "      <td>Kelly Williams</td>\n",
       "      <td>39706.0</td>\n",
       "      <td>Central</td>\n",
       "    </tr>\n",
       "  </tbody>\n",
       "</table>\n",
       "</div>"
      ],
      "text/plain": [
       "              Person    Profit   Region\n",
       "0      Anna Andreadi  108418.0     West\n",
       "1        Chuck Magee   91523.0     East\n",
       "2  Cassandra Brandow   46749.0    South\n",
       "3     Kelly Williams   39706.0  Central"
      ]
     },
     "execution_count": 120,
     "metadata": {},
     "output_type": "execute_result"
    }
   ],
   "source": [
    "query20=pd.DataFrame(myresult,columns=[\"Person\",\"Profit\",\"Region\"])\n",
    "query20"
   ]
  },
  {
   "cell_type": "code",
   "execution_count": 121,
   "id": "5287d8e9",
   "metadata": {},
   "outputs": [
    {
     "data": {
      "text/plain": [
       "Text(0.5, 1.0, 'Profits by Managers ')"
      ]
     },
     "execution_count": 121,
     "metadata": {},
     "output_type": "execute_result"
    },
    {
     "data": {
      "image/png": "[encoded data removed]",
      "text/plain": [
       "<Figure size 640x480 with 1 Axes>"
      ]
     },
     "metadata": {},
     "output_type": "display_data"
    }
   ],
   "source": [
    "plt.pie(query20['Profit'],labels=query20['Person'], explode=None, colors=None, autopct=\"%0.2f%%\", shadow=False)\n",
    "plt.title('Profits by Managers ')"
   ]
  },
  {
   "cell_type": "markdown",
   "id": "fc6b13c5",
   "metadata": {},
   "source": [
    "#### INSIGHTS :\n",
    "Anna Andreadi, representing the West region, demonstrates the highest profits. Chuck Magee, operating in the East region, also contributes significantly to profits. Cassandra Brandow, hailing from the South region, generates modest profits. Meanwhile, Kelly Williams from the Central region shows comparatively lower profits."
   ]
  },
  {
   "cell_type": "markdown",
   "id": "e866b1f6",
   "metadata": {},
   "source": [
    "### Conclusion :\n",
    "* In Peak Periods we can take initiatives such as marketing and increase the sales as well as the profits\n",
    "* We can take advantage of high sales in november to make more profits as the most sales occur in that month.\n",
    "* There can be some changes made in pricing strategies or cost management so the avergae profit margin increases.\n",
    "* Office supplies category has lowest sales so it should be targeted for marketing, Technology has highest sales in categories so the performance should be enhanced and in Furniture there could be soe innovations to inncrese overall sales.\n",
    "*"
   ]
  },
  {
   "cell_type": "markdown",
   "id": "096a4305",
   "metadata": {},
   "source": [
    "### SUMMARY :\n",
    "\n",
    "**From the above Data analysis we can summarize that:**\n",
    "- Sales peak at year-end, except for October, with March showing early promise.\n",
    "- Despite November's high sales, profits are low; December sees highest profits.\n",
    "- August and September have highest profit margins; May is lowest.\n",
    "- Technology leads in sales, Furniture follows; Office Supplies show lower sales but higher profits.\n",
    "- Phones and Chairs lead in sales; Fasteners and Labels lag, suggesting need for improvement.\n",
    "- Phones and Copiers yield highest profits; Tables, Bookcases, and Supplies show losses.\n",
    "- Customers buy an average of 3.79 to 3.80 units per transaction.\n",
    "- Fasteners, Binders, and Tables sell most but have low sales; Supplies and Envelopes sell least but have higher demand.\n",
    "- Top 5 products sold are from Office Supplies.\n",
    "- West leads in profits and sales, with most customers.\n",
    "- East presents market expansion opportunity, with lower sales but good customer base.\n",
    "- South region has lower sales but higher profits, likely due to higher margins.\n",
    "- Central region needs optimization strategies for sales and profits, with moderate customer base.\n",
    "- West has the highest profit margin %, followed by East and South, while Central is negative.\n",
    "- Top sales: California and New York; lowest: West Virginia and North Dakota.\n",
    "- Highest sales city: New York; lowest: Philadelphia.\n",
    "- Consumer segment leads in sales and profits, followed by Corporate, with Home Office trailing.\n",
    "- Shipping preference: Standard, Second class, First class, least preferred: Same Day.\n",
    "- Maximum discounts on Binders sub-category products.\n",
    "- Most returns: Binders and Paper; least: Copiers, Envelopes, and Machines.\n",
    "- Highest profit earner: Anna Andreadi (West); lowest: Kelly Williams (Central)."
   ]
  }
 ],
 "metadata": {
  "kernelspec": {
   "display_name": "Python 3 (ipykernel)",
   "language": "python",
   "name": "python3"
  },
  "language_info": {
   "codemirror_mode": {
    "name": "ipython",
    "version": 3
   },
   "file_extension": ".py",
   "mimetype": "text/x-python",
   "name": "python",
   "nbconvert_exporter": "python",
   "pygments_lexer": "ipython3",
   "version": "3.11.5"
  }
 },
 "nbformat": 4,
 "nbformat_minor": 5
}
